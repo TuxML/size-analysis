{
 "cells": [
  {
   "cell_type": "code",
   "execution_count": 1,
   "metadata": {},
   "outputs": [],
   "source": [
    "import pandas as pd\n",
    "import json\n",
    "\n",
    "with open(\"option_columns.json\",\"r\") as f:\n",
    "    option_columns = json.load(f)\n",
    "\n",
    "#Find the dataset\n",
    "df = pd.read_csv(\"dataset_encoded_size.csv\", dtype={k:\"int8\" for k in option_columns})\n",
    "\n",
    "df.query(\"cid >= 30000\", inplace=True)\n",
    "df.fillna(-1, inplace=True)\n",
    "df.query(\"kernel_size >= 0\", inplace=True)"
   ]
  },
  {
   "cell_type": "code",
   "execution_count": 3,
   "metadata": {},
   "outputs": [
    {
     "ename": "NameError",
     "evalue": "name 'hyperparams' is not defined",
     "output_type": "error",
     "traceback": [
      "\u001b[0;31m---------------------------------------------------------------------------\u001b[0m",
      "\u001b[0;31mNameError\u001b[0m                                 Traceback (most recent call last)",
      "\u001b[0;32m<ipython-input-3-b57044d6823e>\u001b[0m in \u001b[0;36m<module>\u001b[0;34m\u001b[0m\n\u001b[1;32m      4\u001b[0m \u001b[0;32mimport\u001b[0m \u001b[0mnumpy\u001b[0m \u001b[0;32mas\u001b[0m \u001b[0mnp\u001b[0m\u001b[0;34m\u001b[0m\u001b[0;34m\u001b[0m\u001b[0m\n\u001b[1;32m      5\u001b[0m \u001b[0;34m\u001b[0m\u001b[0m\n\u001b[0;32m----> 6\u001b[0;31m \u001b[0mX_train\u001b[0m\u001b[0;34m,\u001b[0m \u001b[0mX_test\u001b[0m\u001b[0;34m,\u001b[0m \u001b[0my_train\u001b[0m\u001b[0;34m,\u001b[0m \u001b[0my_test\u001b[0m \u001b[0;34m=\u001b[0m \u001b[0mtrain_test_split\u001b[0m\u001b[0;34m(\u001b[0m\u001b[0mdf\u001b[0m\u001b[0;34m.\u001b[0m\u001b[0mdrop\u001b[0m\u001b[0;34m(\u001b[0m\u001b[0mcolumns\u001b[0m\u001b[0;34m=\u001b[0m\u001b[0;34m\"cid\"\u001b[0m\u001b[0;34m)\u001b[0m\u001b[0;34m.\u001b[0m\u001b[0mdrop\u001b[0m\u001b[0;34m(\u001b[0m\u001b[0mcolumns\u001b[0m\u001b[0;34m=\u001b[0m\u001b[0;34m\"kernel_size\"\u001b[0m\u001b[0;34m)\u001b[0m\u001b[0;34m,\u001b[0m \u001b[0mdf\u001b[0m\u001b[0;34m[\u001b[0m\u001b[0;34m\"kernel_size\"\u001b[0m\u001b[0;34m]\u001b[0m\u001b[0;34m,\u001b[0m \u001b[0mtest_size\u001b[0m\u001b[0;34m=\u001b[0m\u001b[0;36m0.1\u001b[0m\u001b[0;34m,\u001b[0m \u001b[0mrandom_state\u001b[0m\u001b[0;34m=\u001b[0m\u001b[0mhyperparams\u001b[0m\u001b[0;34m[\u001b[0m\u001b[0;34m\"random_state\"\u001b[0m\u001b[0;34m]\u001b[0m\u001b[0;34m)\u001b[0m\u001b[0;34m\u001b[0m\u001b[0;34m\u001b[0m\u001b[0m\n\u001b[0m\u001b[1;32m      7\u001b[0m \u001b[0mgbreg\u001b[0m \u001b[0;34m=\u001b[0m \u001b[0mGradientBoostingRegressor\u001b[0m\u001b[0;34m\u001b[0m\u001b[0;34m\u001b[0m\u001b[0m\n\u001b[1;32m      8\u001b[0m \u001b[0mgbreg\u001b[0m\u001b[0;34m.\u001b[0m\u001b[0mfit\u001b[0m\u001b[0;34m(\u001b[0m\u001b[0mX_train\u001b[0m\u001b[0;34m,\u001b[0m \u001b[0my_train\u001b[0m\u001b[0;34m)\u001b[0m\u001b[0;34m\u001b[0m\u001b[0;34m\u001b[0m\u001b[0m\n",
      "\u001b[0;31mNameError\u001b[0m: name 'hyperparams' is not defined"
     ]
    }
   ],
   "source": [
    "from sklearn.ensemble.partial_dependence import partial_dependence, plot_partial_dependence\n",
    "from sklearn.model_selection import train_test_split\n",
    "from sklearn.ensemble import GradientBoostingRegressor\n",
    "import numpy as np\n",
    "\n",
    "X_train, X_test, y_train, y_test = train_test_split(df.drop(columns=\"cid\").drop(columns=\"kernel_size\"), df[\"kernel_size\"], test_size=0.1, random_state=42)  \n",
    "gbreg = GradientBoostingRegressor()\n",
    "gbreg.fit(X_train, y_train)\n",
    "y_pred = gbreg.predict(X_test)\n",
    "dfErrors = pd.DataFrame({'Actual':y_test, 'Predicted':y_pred, \"error\":(y_pred - y_test).abs(), \"% error\":((y_pred - y_test)/y_test).abs()*100})\n",
    "dfErrors[\"% error\"].describe(), gbreg\n",
    "\n"
   ]
  },
  {
   "cell_type": "code",
   "execution_count": null,
   "metadata": {},
   "outputs": [],
   "source": [
    "NO_ENCODED_VALUE = 0\n",
    "YES_ENCODED_VALUE = 1\n",
    "M_ENCODED_VALUE = 2\n",
    "\n",
    "def nbyes(row):\n",
    "    return sum(row == YES_ENCODED_VALUE)\n",
    "\n",
    "def nbno(row):\n",
    "    return sum(row == NO_ENCODED_VALUE)\n",
    "\n",
    "def nbmodule(row):\n",
    "    return sum(row == M_ENCODED_VALUE)\n",
    "                    \n",
    "df['nbyes'] = df.apply(nbyes, axis=1)\n",
    "df['nbno'] = df.apply(nbno, axis=1)\n",
    "df['nbmodule'] = df.apply(nbmodule, axis=1)\n",
    "df['nbyesmodule'] = df['nbyes'] + df['nbmodule']\n"
   ]
  },
  {
   "cell_type": "code",
   "execution_count": null,
   "metadata": {},
   "outputs": [],
   "source": [
    "df.sort_values(by='kernel_size', ascending=True)[['kernel_size', 'nbno', 'nbyes', 'nbmodule', 'nbyesmodule']]"
   ]
  },
  {
   "cell_type": "code",
   "execution_count": null,
   "metadata": {},
   "outputs": [],
   "source": [
    "# df.query(\"kernel_size == 7304656\")\n",
    "df.query(\"kernel_size == 7317008\").apply(nbyes, axis=1)"
   ]
  },
  {
   "cell_type": "code",
   "execution_count": null,
   "metadata": {},
   "outputs": [],
   "source": [
    "from sklearn.model_selection import train_test_split\n",
    "from sklearn import tree\n",
    "\n",
    "def runML(hyperparams, with_tree=False):\n",
    "    X_train, X_test, y_train, y_test = train_test_split(df.drop(columns=\"cid\").drop(columns=\"kernel_size\"), df[\"kernel_size\"], test_size=0.1, random_state=hyperparams[\"random_state\"])  \n",
    "    reg = tree.DecisionTreeRegressor(**hyperparams)\n",
    "    reg.fit(X_train, y_train)\n",
    "    y_pred = reg.predict(X_test)\n",
    "    dfErrors = pd.DataFrame({'Actual':y_test, 'Predicted':y_pred, \"error\":(y_pred - y_test).abs(), \"% error\":((y_pred - y_test)/y_test).abs()*100})\n",
    "    if with_tree:\n",
    "        return dfErrors[\"% error\"].describe(), reg\n",
    "    return dfErrors[\"% error\"].describe()"
   ]
  },
  {
   "cell_type": "code",
   "execution_count": null,
   "metadata": {},
   "outputs": [],
   "source": [
    "\n",
    "hyperparams = {\n",
    "    \"criterion\":\"mse\",\n",
    "    \"max_depth\":12,\n",
    "    \"min_samples_leaf\":5,\n",
    "    \"max_leaf_nodes\":None,\n",
    "    \"random_state\":2\n",
    "}\n",
    "res, reg = runML(hyperparams, with_tree=True)"
   ]
  },
  {
   "cell_type": "code",
   "execution_count": null,
   "metadata": {},
   "outputs": [],
   "source": [
    "col = df.drop(columns=\"cid\").drop(columns=\"kernel_size\").columns\n",
    "importanceSeries = pd.Series(reg.feature_importances_, index=col.values)\n",
    "importanceSeries[importanceSeries > 0].sort_values(ascending=False)"
   ]
  },
  {
   "cell_type": "code",
   "execution_count": null,
   "metadata": {},
   "outputs": [],
   "source": [
    "importanceSeries[importanceSeries > 0].sort_values(ascending=False).to_csv(\"feature_importance.csv\")"
   ]
  },
  {
   "cell_type": "code",
   "execution_count": null,
   "metadata": {},
   "outputs": [],
   "source": [
    "from sklearn.model_selection import train_test_split\n",
    "from sklearn import ensemble\n",
    "\n",
    "def runML_RF(hyperparams, with_tree=False):\n",
    "    X_train, X_test, y_train, y_test = train_test_split(df.drop(columns=\"cid\").drop(columns=\"kernel_size\"), df[\"kernel_size\"], test_size=0.1)  \n",
    "    reg = ensemble.RandomForestRegressor(**hyperparams)\n",
    "    reg.fit(X_train, y_train)\n",
    "    y_pred = reg.predict(X_test)\n",
    "    dfErrors = pd.DataFrame({'Actual':y_test, 'Predicted':y_pred, \"error\":(y_pred - y_test).abs(), \"% error\":((y_pred - y_test)/y_test).abs()*100})\n",
    "    if with_tree:\n",
    "        return dfErrors[\"% error\"].describe(), reg\n",
    "    return dfErrors[\"% error\"].describe()\n"
   ]
  },
  {
   "cell_type": "code",
   "execution_count": null,
   "metadata": {},
   "outputs": [],
   "source": [
    "hyperparams = {\n",
    "    \"max_depth\":18,\n",
    "    \"n_estimators\":50,\n",
    "    \n",
    "}\n",
    "resrf, regrf = runML_RF(hyperparams, with_tree=True)\n",
    "resrf"
   ]
  },
  {
   "cell_type": "code",
   "execution_count": null,
   "metadata": {},
   "outputs": [],
   "source": [
    "importanceRF = pd.Series(regrf.feature_importances_, index=col.values)\n",
    "importanceRF[importanceRF > 0].sort_values(ascending=False)"
   ]
  },
  {
   "cell_type": "code",
   "execution_count": null,
   "metadata": {},
   "outputs": [],
   "source": []
  }
 ],
 "metadata": {
  "kernelspec": {
   "display_name": "Python 3",
   "language": "python",
   "name": "python3"
  },
  "language_info": {
   "codemirror_mode": {
    "name": "ipython",
    "version": 3
   },
   "file_extension": ".py",
   "mimetype": "text/x-python",
   "name": "python",
   "nbconvert_exporter": "python",
   "pygments_lexer": "ipython3",
   "version": "3.7.3"
  }
 },
 "nbformat": 4,
 "nbformat_minor": 2
}
