{
 "cells": [
  {
   "cell_type": "code",
   "execution_count": 1,
   "metadata": {},
   "outputs": [],
   "source": [
    "import pandas as pd\n",
    "import json\n",
    "\n",
    "with open(\"option_columns.json\",\"r\") as f:\n",
    "    option_columns = json.load(f)\n",
    "\n",
    "#Find the dataset\n",
    "df = pd.read_csv(\"dataset_encoded_size.csv\", dtype={k:\"int8\" for k in option_columns})\n",
    "\n",
    "df.query(\"cid >= 30000\", inplace=True)\n",
    "df.fillna(-1, inplace=True)\n",
    "df.query(\"kernel_size >= 0\", inplace=True)"
   ]
  },
  {
   "cell_type": "code",
   "execution_count": 2,
   "metadata": {},
   "outputs": [],
   "source": [
    "from sklearn.model_selection import train_test_split\n",
    "from sklearn import tree\n",
    "\n",
    "def runML(hyperparams, with_tree=False):\n",
    "    X_train, X_test, y_train, y_test = train_test_split(df.drop(columns=\"cid\").drop(columns=\"kernel_size\"), df[\"kernel_size\"], test_size=0.1, random_state=hyperparams[\"random_state\"])  \n",
    "    reg = tree.DecisionTreeRegressor(**hyperparams)\n",
    "    reg.fit(X_train, y_train)\n",
    "    y_pred = reg.predict(X_test)\n",
    "    dfErrors = pd.DataFrame({'Actual':y_test, 'Predicted':y_pred, \"error\":(y_pred - y_test).abs(), \"% error\":((y_pred - y_test)/y_test).abs()*100})\n",
    "    if with_tree:\n",
    "        return dfErrors[\"% error\"].describe(), reg\n",
    "    return dfErrors[\"% error\"].describe()"
   ]
  },
  {
   "cell_type": "code",
   "execution_count": 3,
   "metadata": {},
   "outputs": [],
   "source": [
    "\n",
    "hyperparams = {\n",
    "    \"criterion\":\"mse\",\n",
    "    \"max_depth\":12,\n",
    "    \"min_samples_leaf\":5,\n",
    "    \"max_leaf_nodes\":None,\n",
    "    \"random_state\":2\n",
    "}\n",
    "res, reg = runML(hyperparams, with_tree=True)"
   ]
  },
  {
   "cell_type": "code",
   "execution_count": 4,
   "metadata": {},
   "outputs": [
    {
     "data": {
      "text/plain": [
       "DEBUG_INFO                  3.353856e-01\n",
       "RANDOMIZE_BASE              1.302672e-01\n",
       "DEBUG_INFO_REDUCED          1.130614e-01\n",
       "DEBUG_INFO_SPLIT            8.640952e-02\n",
       "STRICT_MODULE_RWX           5.291101e-02\n",
       "BLK_MQ_PCI                  3.956938e-02\n",
       "MODULES                     3.568542e-02\n",
       "UBSAN_SANITIZE_ALL          3.452231e-02\n",
       "X86_NEED_RELOCS             1.873495e-02\n",
       "KASAN                       1.080636e-02\n",
       "FB_SVGALIB                  1.022115e-02\n",
       "MDIO_DEVICE                 8.304272e-03\n",
       "UBSAN_ALIGNMENT             7.775686e-03\n",
       "KASAN_OUTLINE               6.216344e-03\n",
       "GCOV_PROFILE_ALL            5.991576e-03\n",
       "ARCH_MIGHT_HAVE_ACPI_PDC    5.910603e-03\n",
       "SWPHY                       4.789978e-03\n",
       "INTEL_GTT                   3.788891e-03\n",
       "DST_CACHE                   3.737057e-03\n",
       "XFS_DEBUG                   2.934081e-03\n",
       "MDIO                        2.770754e-03\n",
       "DRM_TTM                     2.526473e-03\n",
       "SCSI_ISCSI_ATTRS            2.247725e-03\n",
       "TUN_VNET_CROSS_LE           2.022638e-03\n",
       "GRO_CELLS                   1.512611e-03\n",
       "INFINIBAND_NES_DEBUG        1.492118e-03\n",
       "MXM_WMI                     1.487851e-03\n",
       "DRM_NOUVEAU                 1.467779e-03\n",
       "BQL                         1.251809e-03\n",
       "SENSORS_W83L786NG           1.218235e-03\n",
       "                                ...     \n",
       "TEST_STRING_HELPERS         4.768415e-07\n",
       "FANOTIFY                    4.666894e-07\n",
       "NVME_TARGET_FC              4.486873e-07\n",
       "NET_KEY                     4.465282e-07\n",
       "SENSORS_PCF8591             4.379318e-07\n",
       "SYSCTL                      4.371553e-07\n",
       "FORTIFY_SOURCE              4.301603e-07\n",
       "FPGA_MGR_ICE40_SPI          4.288778e-07\n",
       "SERIO_ALTERA_PS2            4.155855e-07\n",
       "X86_INTEL_PSTATE            3.845341e-07\n",
       "RTC_DRV_MAX8925             3.689771e-07\n",
       "RD_XZ                       3.495413e-07\n",
       "RCU_STALL_COMMON            3.343749e-07\n",
       "I2C_CHARDEV                 3.331609e-07\n",
       "IIO_SYSFS_TRIGGER           3.311638e-07\n",
       "REGULATOR_MAX1586           3.273783e-07\n",
       "PCI_IOV                     3.255260e-07\n",
       "MFD_MAX8998                 3.038478e-07\n",
       "EEPROM_93CX6                2.976098e-07\n",
       "BATTERY_DS2781              2.853654e-07\n",
       "GPIO_F7188X                 2.830800e-07\n",
       "NTFS_FS                     2.676472e-07\n",
       "MFD_WM5110                  2.611773e-07\n",
       "GCC_PLUGIN_RANDSTRUCT       2.508642e-07\n",
       "HWMON_VID                   2.258920e-07\n",
       "BT                          2.222979e-07\n",
       "REGULATOR_TPS65023          1.633749e-07\n",
       "BMI160_I2C                  1.626400e-07\n",
       "DNOTIFY                     1.415215e-07\n",
       "VIDEO_TW9903                4.492294e-08\n",
       "Length: 1126, dtype: float64"
      ]
     },
     "execution_count": 4,
     "metadata": {},
     "output_type": "execute_result"
    }
   ],
   "source": [
    "col = df.drop(columns=\"cid\").drop(columns=\"kernel_size\").columns\n",
    "importanceSeries = pd.Series(reg.feature_importances_, index=col.values)\n",
    "importanceSeries[importanceSeries > 0].sort_values(ascending=False)"
   ]
  },
  {
   "cell_type": "code",
   "execution_count": 5,
   "metadata": {},
   "outputs": [
    {
     "name": "stderr",
     "output_type": "stream",
     "text": [
      "/usr/local/lib/python3.7/site-packages/ipykernel_launcher.py:1: FutureWarning: The signature of `Series.to_csv` was aligned to that of `DataFrame.to_csv`, and argument 'header' will change its default value from False to True: please pass an explicit value to suppress this warning.\n",
      "  \"\"\"Entry point for launching an IPython kernel.\n"
     ]
    }
   ],
   "source": [
    "importanceSeries[importanceSeries > 0].sort_values(ascending=False).to_csv(\"feature_importance.csv\")"
   ]
  },
  {
   "cell_type": "code",
   "execution_count": 6,
   "metadata": {},
   "outputs": [],
   "source": [
    "from sklearn.model_selection import train_test_split\n",
    "from sklearn import ensemble\n",
    "\n",
    "def runML_RF(hyperparams, with_tree=False):\n",
    "    X_train, X_test, y_train, y_test = train_test_split(df.drop(columns=\"cid\").drop(columns=\"kernel_size\"), df[\"kernel_size\"], test_size=0.1)  \n",
    "    reg = ensemble.RandomForestRegressor(**hyperparams)\n",
    "    reg.fit(X_train, y_train)\n",
    "    y_pred = reg.predict(X_test)\n",
    "    dfErrors = pd.DataFrame({'Actual':y_test, 'Predicted':y_pred, \"error\":(y_pred - y_test).abs(), \"% error\":((y_pred - y_test)/y_test).abs()*100})\n",
    "    if with_tree:\n",
    "        return dfErrors[\"% error\"].describe(), reg\n",
    "    return dfErrors[\"% error\"].describe()\n"
   ]
  },
  {
   "cell_type": "code",
   "execution_count": 7,
   "metadata": {},
   "outputs": [
    {
     "data": {
      "text/plain": [
       "count    9248.000000\n",
       "mean       10.462155\n",
       "std        10.240255\n",
       "min         0.001271\n",
       "25%         3.577800\n",
       "50%         7.997394\n",
       "75%        14.152988\n",
       "max       160.135533\n",
       "Name: % error, dtype: float64"
      ]
     },
     "execution_count": 7,
     "metadata": {},
     "output_type": "execute_result"
    }
   ],
   "source": [
    "hyperparams = {\n",
    "    \"max_depth\":18,\n",
    "    \"n_estimators\":50,\n",
    "    \n",
    "}\n",
    "resrf, regrf = runML_RF(hyperparams, with_tree=True)\n",
    "resrf"
   ]
  },
  {
   "cell_type": "code",
   "execution_count": 8,
   "metadata": {},
   "outputs": [
    {
     "data": {
      "text/plain": [
       "DEBUG_INFO                  3.305341e-01\n",
       "DEBUG_INFO_REDUCED          1.112772e-01\n",
       "DEBUG_INFO_SPLIT            8.521497e-02\n",
       "RANDOMIZE_BASE              7.445507e-02\n",
       "X86_NEED_RELOCS             6.910525e-02\n",
       "STRICT_MODULE_RWX           3.745045e-02\n",
       "MODULES                     3.420450e-02\n",
       "UBSAN_SANITIZE_ALL          3.346956e-02\n",
       "BLK_MQ_PCI                  2.287366e-02\n",
       "FB_SVGALIB                  1.149733e-02\n",
       "KASAN_OUTLINE               7.961296e-03\n",
       "DRM_NOUVEAU                 7.381284e-03\n",
       "KASAN                       6.277975e-03\n",
       "UBSAN_ALIGNMENT             5.919627e-03\n",
       "MDIO                        5.367520e-03\n",
       "GCOV_PROFILE_ALL            5.235003e-03\n",
       "FB_DDC                      3.918975e-03\n",
       "MDIO_THUNDER                3.812828e-03\n",
       "DRM_TTM                     3.518324e-03\n",
       "XFS_DEBUG                   2.854037e-03\n",
       "DRM_AMDGPU                  2.677830e-03\n",
       "SCSI_ISCSI_ATTRS            2.294381e-03\n",
       "DRM_RADEON                  2.193272e-03\n",
       "MII                         1.575236e-03\n",
       "GRO_CELLS                   1.305145e-03\n",
       "INTEL_GTT                   1.302448e-03\n",
       "MMU_NOTIFIER                1.038694e-03\n",
       "FDDI                        8.269024e-04\n",
       "XFS_FS                      8.112905e-04\n",
       "KCOV_INSTRUMENT_ALL         8.046306e-04\n",
       "                                ...     \n",
       "MLX4_EN_DCB                 3.623990e-10\n",
       "R8188EU                     3.416205e-10\n",
       "NFS_V4_SECURITY_LABEL       3.212550e-10\n",
       "DSCC4_PCI_RST               3.107431e-10\n",
       "IMA_LOAD_X509               2.908809e-10\n",
       "INFINIBAND_QIB_DCA          2.695168e-10\n",
       "HISAX_NO_SENDCOMPLETE       2.649122e-10\n",
       "DEV_DAX_PMEM                2.522685e-10\n",
       "VIDEO_S5P_FIMC              2.418273e-10\n",
       "VIDEO_S3C_CAMIF             2.123597e-10\n",
       "IPW2200_DEBUG               1.909125e-10\n",
       "LIBERTAS_SPI                1.851992e-10\n",
       "PCMCIA_SPECTRUM             1.590682e-10\n",
       "DVB_USB_DIBUSB_MB_FAULTY    9.904382e-11\n",
       "WL1251_SPI                  9.652797e-11\n",
       "XEN_MCE_LOG                 9.125507e-11\n",
       "CARL9170_DEBUGFS            8.844946e-11\n",
       "NET_VRF                     8.623444e-11\n",
       "IPPP_FILTER                 8.411887e-11\n",
       "TULIP_NAPI_HW_MITIGATION    8.372604e-11\n",
       "RT2X00_LIB_LEDS             6.894480e-11\n",
       "XEN_NETDEV_BACKEND          4.314630e-11\n",
       "NFS_USE_LEGACY_DNS          4.305278e-11\n",
       "IWLWIFI_OPMODE_MODULAR      3.637247e-11\n",
       "ISDN_DIVAS_MAINT            3.007075e-11\n",
       "NFT_BRIDGE_REJECT           2.680453e-11\n",
       "VIDEO_IMX                   9.377585e-12\n",
       "USB_MTU3_GADGET             6.269836e-12\n",
       "DEFAULT_DCTCP               5.668323e-12\n",
       "CARL9170_HWRNG              5.037007e-14\n",
       "Length: 9233, dtype: float64"
      ]
     },
     "execution_count": 8,
     "metadata": {},
     "output_type": "execute_result"
    }
   ],
   "source": [
    "importanceRF = pd.Series(regrf.feature_importances_, index=col.values)\n",
    "importanceRF[importanceRF > 0].sort_values(ascending=False)"
   ]
  },
  {
   "cell_type": "code",
   "execution_count": null,
   "metadata": {},
   "outputs": [],
   "source": []
  }
 ],
 "metadata": {
  "kernelspec": {
   "display_name": "Python 3",
   "language": "python",
   "name": "python3"
  },
  "language_info": {
   "codemirror_mode": {
    "name": "ipython",
    "version": 3
   },
   "file_extension": ".py",
   "mimetype": "text/x-python",
   "name": "python",
   "nbconvert_exporter": "python",
   "pygments_lexer": "ipython3",
   "version": "3.7.3"
  }
 },
 "nbformat": 4,
 "nbformat_minor": 2
}
