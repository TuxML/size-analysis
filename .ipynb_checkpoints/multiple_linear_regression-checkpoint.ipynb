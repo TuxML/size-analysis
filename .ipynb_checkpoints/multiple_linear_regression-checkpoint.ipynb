{
 "cells": [
  {
   "cell_type": "code",
   "execution_count": 3,
   "metadata": {},
   "outputs": [
    {
     "data": {
      "text/plain": [
       "110853"
      ]
     },
     "execution_count": 3,
     "metadata": {},
     "output_type": "execute_result"
    }
   ],
   "source": [
    "import pandas as pd\n",
    "import json\n",
    "\n",
    "with open(\"option_columns.json\",\"r\") as f:\n",
    "    option_columns = json.load(f)\n",
    "\n",
    "size = pd.read_csv(\"dataset_encoded_size.csv\", dtype={k:\"int8\" for k in option_columns})\n",
    "\n",
    "len(size)"
   ]
  },
  {
   "cell_type": "code",
   "execution_count": 4,
   "metadata": {},
   "outputs": [
    {
     "data": {
      "text/plain": [
       "92473"
      ]
     },
     "execution_count": 4,
     "metadata": {},
     "output_type": "execute_result"
    }
   ],
   "source": [
    "size.query(\"cid >= 30000\", inplace=True)\n",
    "size.fillna(-1, inplace=True)\n",
    "size.query(\"kernel_size >= 0\", inplace=True)\n",
    "\n",
    "len(size)"
   ]
  },
  {
   "cell_type": "code",
   "execution_count": 5,
   "metadata": {},
   "outputs": [
    {
     "data": {
      "text/html": [
       "<div>\n",
       "<style scoped>\n",
       "    .dataframe tbody tr th:only-of-type {\n",
       "        vertical-align: middle;\n",
       "    }\n",
       "\n",
       "    .dataframe tbody tr th {\n",
       "        vertical-align: top;\n",
       "    }\n",
       "\n",
       "    .dataframe thead th {\n",
       "        text-align: right;\n",
       "    }\n",
       "</style>\n",
       "<table border=\"1\" class=\"dataframe\">\n",
       "  <thead>\n",
       "    <tr style=\"text-align: right;\">\n",
       "      <th></th>\n",
       "      <th>104_QUAD_8</th>\n",
       "      <th>21285_WATCHDOG</th>\n",
       "      <th>3C515</th>\n",
       "      <th>53C700_BE_BUS</th>\n",
       "      <th>53C700_LE_ON_BE</th>\n",
       "      <th>60XX_WDT</th>\n",
       "      <th>64BIT</th>\n",
       "      <th>6LOWPAN</th>\n",
       "      <th>6LOWPAN_DEBUGFS</th>\n",
       "      <th>6LOWPAN_GHC_EXT_HDR_DEST</th>\n",
       "      <th>...</th>\n",
       "      <th>ZSWAP</th>\n",
       "      <th>ZX2967_PM_DOMAINS</th>\n",
       "      <th>ZX2967_THERMAL</th>\n",
       "      <th>ZX2967_WATCHDOG</th>\n",
       "      <th>ZX_DMA</th>\n",
       "      <th>ZX_I2S</th>\n",
       "      <th>ZX_SPDIF</th>\n",
       "      <th>ZX_TDM</th>\n",
       "      <th>cid</th>\n",
       "      <th>kernel_size</th>\n",
       "    </tr>\n",
       "  </thead>\n",
       "  <tbody>\n",
       "    <tr>\n",
       "      <th>14758</th>\n",
       "      <td>2</td>\n",
       "      <td>0</td>\n",
       "      <td>0</td>\n",
       "      <td>0</td>\n",
       "      <td>0</td>\n",
       "      <td>1</td>\n",
       "      <td>0</td>\n",
       "      <td>1</td>\n",
       "      <td>0</td>\n",
       "      <td>1</td>\n",
       "      <td>...</td>\n",
       "      <td>0</td>\n",
       "      <td>0</td>\n",
       "      <td>0</td>\n",
       "      <td>0</td>\n",
       "      <td>1</td>\n",
       "      <td>1</td>\n",
       "      <td>1</td>\n",
       "      <td>1</td>\n",
       "      <td>30000</td>\n",
       "      <td>50222120</td>\n",
       "    </tr>\n",
       "    <tr>\n",
       "      <th>14759</th>\n",
       "      <td>1</td>\n",
       "      <td>0</td>\n",
       "      <td>0</td>\n",
       "      <td>0</td>\n",
       "      <td>0</td>\n",
       "      <td>2</td>\n",
       "      <td>0</td>\n",
       "      <td>1</td>\n",
       "      <td>0</td>\n",
       "      <td>1</td>\n",
       "      <td>...</td>\n",
       "      <td>0</td>\n",
       "      <td>0</td>\n",
       "      <td>1</td>\n",
       "      <td>0</td>\n",
       "      <td>0</td>\n",
       "      <td>1</td>\n",
       "      <td>1</td>\n",
       "      <td>1</td>\n",
       "      <td>30001</td>\n",
       "      <td>16660024</td>\n",
       "    </tr>\n",
       "    <tr>\n",
       "      <th>14760</th>\n",
       "      <td>1</td>\n",
       "      <td>0</td>\n",
       "      <td>0</td>\n",
       "      <td>0</td>\n",
       "      <td>0</td>\n",
       "      <td>2</td>\n",
       "      <td>0</td>\n",
       "      <td>1</td>\n",
       "      <td>0</td>\n",
       "      <td>1</td>\n",
       "      <td>...</td>\n",
       "      <td>0</td>\n",
       "      <td>0</td>\n",
       "      <td>1</td>\n",
       "      <td>0</td>\n",
       "      <td>1</td>\n",
       "      <td>1</td>\n",
       "      <td>1</td>\n",
       "      <td>1</td>\n",
       "      <td>30002</td>\n",
       "      <td>43080856</td>\n",
       "    </tr>\n",
       "    <tr>\n",
       "      <th>14761</th>\n",
       "      <td>1</td>\n",
       "      <td>0</td>\n",
       "      <td>0</td>\n",
       "      <td>0</td>\n",
       "      <td>0</td>\n",
       "      <td>1</td>\n",
       "      <td>0</td>\n",
       "      <td>1</td>\n",
       "      <td>0</td>\n",
       "      <td>1</td>\n",
       "      <td>...</td>\n",
       "      <td>0</td>\n",
       "      <td>0</td>\n",
       "      <td>1</td>\n",
       "      <td>0</td>\n",
       "      <td>1</td>\n",
       "      <td>1</td>\n",
       "      <td>1</td>\n",
       "      <td>1</td>\n",
       "      <td>30003</td>\n",
       "      <td>27261672</td>\n",
       "    </tr>\n",
       "    <tr>\n",
       "      <th>14762</th>\n",
       "      <td>1</td>\n",
       "      <td>0</td>\n",
       "      <td>0</td>\n",
       "      <td>0</td>\n",
       "      <td>0</td>\n",
       "      <td>1</td>\n",
       "      <td>0</td>\n",
       "      <td>1</td>\n",
       "      <td>0</td>\n",
       "      <td>1</td>\n",
       "      <td>...</td>\n",
       "      <td>0</td>\n",
       "      <td>0</td>\n",
       "      <td>1</td>\n",
       "      <td>0</td>\n",
       "      <td>1</td>\n",
       "      <td>1</td>\n",
       "      <td>1</td>\n",
       "      <td>2</td>\n",
       "      <td>30004</td>\n",
       "      <td>58769440</td>\n",
       "    </tr>\n",
       "  </tbody>\n",
       "</table>\n",
       "<p>5 rows × 12638 columns</p>\n",
       "</div>"
      ],
      "text/plain": [
       "       104_QUAD_8  21285_WATCHDOG  3C515  53C700_BE_BUS  53C700_LE_ON_BE  \\\n",
       "14758           2               0      0              0                0   \n",
       "14759           1               0      0              0                0   \n",
       "14760           1               0      0              0                0   \n",
       "14761           1               0      0              0                0   \n",
       "14762           1               0      0              0                0   \n",
       "\n",
       "       60XX_WDT  64BIT  6LOWPAN  6LOWPAN_DEBUGFS  6LOWPAN_GHC_EXT_HDR_DEST  \\\n",
       "14758         1      0        1                0                         1   \n",
       "14759         2      0        1                0                         1   \n",
       "14760         2      0        1                0                         1   \n",
       "14761         1      0        1                0                         1   \n",
       "14762         1      0        1                0                         1   \n",
       "\n",
       "       ...  ZSWAP  ZX2967_PM_DOMAINS  ZX2967_THERMAL  ZX2967_WATCHDOG  ZX_DMA  \\\n",
       "14758  ...      0                  0               0                0       1   \n",
       "14759  ...      0                  0               1                0       0   \n",
       "14760  ...      0                  0               1                0       1   \n",
       "14761  ...      0                  0               1                0       1   \n",
       "14762  ...      0                  0               1                0       1   \n",
       "\n",
       "       ZX_I2S  ZX_SPDIF  ZX_TDM    cid  kernel_size  \n",
       "14758       1         1       1  30000     50222120  \n",
       "14759       1         1       1  30001     16660024  \n",
       "14760       1         1       1  30002     43080856  \n",
       "14761       1         1       1  30003     27261672  \n",
       "14762       1         1       2  30004     58769440  \n",
       "\n",
       "[5 rows x 12638 columns]"
      ]
     },
     "execution_count": 5,
     "metadata": {},
     "output_type": "execute_result"
    }
   ],
   "source": [
    "size[:5]"
   ]
  },
  {
   "cell_type": "code",
   "execution_count": 6,
   "metadata": {},
   "outputs": [
    {
     "data": {
      "text/plain": [
       "12638"
      ]
     },
     "execution_count": 6,
     "metadata": {},
     "output_type": "execute_result"
    }
   ],
   "source": [
    "len(size.columns)"
   ]
  },
  {
   "cell_type": "code",
   "execution_count": 30,
   "metadata": {},
   "outputs": [
    {
     "name": "stdout",
     "output_type": "stream",
     "text": [
      "coefficient of determination: 0.7164351231012369\n",
      "intercept: -115284849455.55917\n",
      "slope: [-5.15771067e+04  6.58999578e+13  3.90374873e+14 ... -5.90119620e+05\n",
      " -1.19811776e+05  4.88486824e+05]\n"
     ]
    }
   ],
   "source": [
    "#learning a model by using multiple linear regression\n",
    "import numpy as np\n",
    "from sklearn.linear_model import LinearRegression\n",
    "from sklearn.model_selection import train_test_split\n",
    "\n",
    "x_train, x_test, y_train, y_test = train_test_split(size.drop(columns=\"cid\").drop(columns=\"kernel_size\"), size[\"kernel_size\"], test_size=0.1) \n",
    "\n",
    "#print(x_train.values)\n",
    "#print(y_train.values)\n",
    "\n",
    "x_train, y_train = np.array(x_train.values), np.array(y_train.values)\n",
    "#x_test, y_test = np.array(x_test.values), np.array(y_test.values)\n",
    "\n",
    "model = LinearRegression().fit(x_train, y_train)\n",
    "\n",
    "r_sq = model.score(x_train, y_train)\n",
    "print('coefficient of determination:', r_sq)\n",
    "print('intercept:', model.intercept_)\n",
    "print('slope:', model.coef_)\n"
   ]
  },
  {
   "cell_type": "code",
   "execution_count": 31,
   "metadata": {},
   "outputs": [
    {
     "name": "stdout",
     "output_type": "stream",
     "text": [
      "12636\n"
     ]
    }
   ],
   "source": [
    "print(len(model.coef_))"
   ]
  },
  {
   "cell_type": "code",
   "execution_count": 32,
   "metadata": {},
   "outputs": [
    {
     "name": "stdout",
     "output_type": "stream",
     "text": [
      "Number of options whose have inflence on size: 11665\n",
      "Number of options whose have positive inflence on size: 5947\n",
      "Number of options whose have negative inflence on size: 5718\n"
     ]
    }
   ],
   "source": [
    "i, n, p = 0, 0, 0\n",
    "for x in range(len(model.coef_)): \n",
    "    if (model.coef_[x] != 0):\n",
    "        i = i + 1\n",
    "        if (model.coef_[x] > 0):\n",
    "            p = p + 1\n",
    "        else:\n",
    "            n = n + 1\n",
    "\n",
    "print('Number of options whose have inflence on size:', i)\n",
    "print('Number of options whose have positive inflence on size:', p)\n",
    "print('Number of options whose have negative inflence on size:', n)"
   ]
  },
  {
   "cell_type": "code",
   "execution_count": 33,
   "metadata": {},
   "outputs": [
    {
     "data": {
      "text/plain": [
       "count    9248.000000\n",
       "mean       53.773600\n",
       "std        47.889136\n",
       "min         0.005139\n",
       "25%        18.483724\n",
       "50%        40.829736\n",
       "75%        74.909965\n",
       "max       401.769611\n",
       "Name: % error, dtype: float64"
      ]
     },
     "execution_count": 33,
     "metadata": {},
     "output_type": "execute_result"
    }
   ],
   "source": [
    "#validation\n",
    "y_pred = model.predict(x_test)\n",
    "#y_pred = model.intercept_ + np.sum(model.coef_ * x_test.values, axis=1)\n",
    "\n",
    "#print(y_test)\n",
    "#print(y_pred)\n",
    "\n",
    "dfErrors = pd.DataFrame({'Actual':y_test, 'Predicted':y_pred, \"error\":(y_pred - y_test).abs(), \"% error\":((y_pred - y_test)/y_test).abs()*100})\n",
    "dfErrors[\"% error\"].describe()"
   ]
  },
  {
   "cell_type": "code",
   "execution_count": null,
   "metadata": {},
   "outputs": [],
   "source": [
    "#learning a model by using polynomial regression degree=2\n",
    "\n",
    "import numpy as np\n",
    "from sklearn.preprocessing import PolynomialFeatures\n",
    "from sklearn.linear_model import LinearRegression\n",
    "from sklearn.model_selection import train_test_split\n",
    "\n",
    "x_train, x_test, y_train, y_test = train_test_split(size.drop(columns=\"cid\").drop(columns=\"kernel_size\"), size[\"kernel_size\"], test_size=0.1) \n",
    "\n",
    "#print(x_train.values)\n",
    "#print(y_train.values)\n",
    "\n",
    "x_train, y_train = np.array(x_train.values), np.array(y_train.values)\n",
    "#x_test, y_test = np.array(x_test.values), np.array(y_test.values)\n",
    "\n",
    "x_train_ = PolynomialFeatures(degree=2, include_bias=False).fit_transform(x_train)\n",
    "model = LinearRegression().fit(x_train_, y_train)\n",
    "\n",
    "r_sq = model.score(x_train_, y_train)\n",
    "print('coefficient of determination:', r_sq)\n",
    "print('intercept:', model.intercept_)\n",
    "print('slope:', model.coef_)\n",
    "\n",
    "#for 2 options we have: 𝑓(𝑥₁, 𝑥₂) = 𝑏₀ + 𝑏₁𝑥₁ + 𝑏₂𝑥₂ + 𝑏₃𝑥₁² + 𝑏₄𝑥₁𝑥₂ + 𝑏₅𝑥₂²\n",
    "#in our case we have 12636 options\n"
   ]
  },
  {
   "cell_type": "code",
   "execution_count": null,
   "metadata": {},
   "outputs": [],
   "source": [
    "#validation\n",
    "x_test_ = PolynomialFeatures(degree=2, include_bias=False).fit_transform(x_test)\n",
    "y_pred = model.predict(x_test_)\n",
    "\n",
    "#print(y_test)\n",
    "#print(y_pred)\n",
    "\n",
    "dfErrors = pd.DataFrame({'Actual':y_test, 'Predicted':y_pred, \"error\":(y_pred - y_test).abs(), \"% error\":((y_pred - y_test)/y_test).abs()*100})\n",
    "dfErrors[\"% error\"].describe()"
   ]
  }
 ],
 "metadata": {
  "kernelspec": {
   "display_name": "Python 3",
   "language": "python",
   "name": "python3"
  },
  "language_info": {
   "codemirror_mode": {
    "name": "ipython",
    "version": 3
   },
   "file_extension": ".py",
   "mimetype": "text/x-python",
   "name": "python",
   "nbconvert_exporter": "python",
   "pygments_lexer": "ipython3",
   "version": "3.7.3"
  }
 },
 "nbformat": 4,
 "nbformat_minor": 2
}
