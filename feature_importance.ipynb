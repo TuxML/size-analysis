{
 "cells": [
  {
   "cell_type": "code",
   "execution_count": 1,
   "metadata": {},
   "outputs": [],
   "source": [
    "import pandas as pd\n",
    "import json\n",
    "\n",
    "with open(\"../compilation-analysis/option_columns.json\",\"r\") as f:\n",
    "    option_columns = json.load(f)\n",
    "\n",
    "#Find the dataset\n",
    "df = pd.read_csv(\"../tuxml-datasets/dataset_encoded_size.csv\", dtype={k:\"int8\" for k in option_columns})\n",
    "\n",
    "df.query(\"cid >= 30000\", inplace=True)\n",
    "df.fillna(-1, inplace=True)\n",
    "df.query(\"kernel_size >= 0\", inplace=True)"
   ]
  },
  {
   "cell_type": "code",
   "execution_count": 2,
   "metadata": {},
   "outputs": [],
   "source": [
    "from sklearn.model_selection import train_test_split\n",
    "from sklearn import tree\n",
    "\n",
    "def runML(hyperparams, with_tree=False):\n",
    "    X_train, X_test, y_train, y_test = train_test_split(df.drop(columns=\"cid\").drop(columns=\"kernel_size\"), df[\"kernel_size\"], test_size=0.1, random_state=hyperparams[\"random_state\"])  \n",
    "    reg = tree.DecisionTreeRegressor(**hyperparams)\n",
    "    reg.fit(X_train, y_train)\n",
    "    y_pred = reg.predict(X_test)\n",
    "    dfErrors = pd.DataFrame({'Actual':y_test, 'Predicted':y_pred, \"error\":(y_pred - y_test).abs(), \"% error\":((y_pred - y_test)/y_test).abs()*100})\n",
    "    if with_tree:\n",
    "        return dfErrors[\"% error\"].describe(), reg\n",
    "    return dfErrors[\"% error\"].describe()"
   ]
  },
  {
   "cell_type": "code",
   "execution_count": 3,
   "metadata": {},
   "outputs": [],
   "source": [
    "\n",
    "hyperparams = {\n",
    "    \"criterion\":\"mse\",\n",
    "    \"max_depth\":12,\n",
    "    \"min_samples_leaf\":5,\n",
    "    \"max_leaf_nodes\":None,\n",
    "    \"random_state\":2\n",
    "}\n",
    "res, reg = runML(hyperparams, with_tree=True)"
   ]
  },
  {
   "cell_type": "code",
   "execution_count": 4,
   "metadata": {},
   "outputs": [
    {
     "data": {
      "text/plain": [
       "DEBUG_INFO                  3.353856e-01\n",
       "RANDOMIZE_BASE              1.302672e-01\n",
       "DEBUG_INFO_REDUCED          1.130614e-01\n",
       "DEBUG_INFO_SPLIT            8.640952e-02\n",
       "STRICT_MODULE_RWX           5.291101e-02\n",
       "BLK_MQ_PCI                  3.956938e-02\n",
       "MODULES                     3.568542e-02\n",
       "UBSAN_SANITIZE_ALL          3.452231e-02\n",
       "X86_NEED_RELOCS             1.873495e-02\n",
       "KASAN                       1.080636e-02\n",
       "FB_SVGALIB                  1.022115e-02\n",
       "MDIO_DEVICE                 8.304272e-03\n",
       "UBSAN_ALIGNMENT             7.775686e-03\n",
       "KASAN_OUTLINE               6.216344e-03\n",
       "GCOV_PROFILE_ALL            5.991576e-03\n",
       "ARCH_MIGHT_HAVE_ACPI_PDC    5.910603e-03\n",
       "SWPHY                       4.789978e-03\n",
       "INTEL_GTT                   3.788891e-03\n",
       "DST_CACHE                   3.737057e-03\n",
       "XFS_DEBUG                   2.934081e-03\n",
       "MDIO                        2.770754e-03\n",
       "DRM_TTM                     2.526473e-03\n",
       "SCSI_ISCSI_ATTRS            2.247725e-03\n",
       "TUN_VNET_CROSS_LE           2.022638e-03\n",
       "GRO_CELLS                   1.512611e-03\n",
       "INFINIBAND_NES_DEBUG        1.492118e-03\n",
       "MXM_WMI                     1.487851e-03\n",
       "DRM_NOUVEAU                 1.467779e-03\n",
       "BQL                         1.251809e-03\n",
       "SENSORS_W83L786NG           1.218235e-03\n",
       "                                ...     \n",
       "TEST_STRING_HELPERS         4.768415e-07\n",
       "FANOTIFY                    4.666894e-07\n",
       "NVME_TARGET_FC              4.486873e-07\n",
       "NET_KEY                     4.465282e-07\n",
       "SENSORS_PCF8591             4.379318e-07\n",
       "SYSCTL                      4.371553e-07\n",
       "FORTIFY_SOURCE              4.301603e-07\n",
       "FPGA_MGR_ICE40_SPI          4.288778e-07\n",
       "SERIO_ALTERA_PS2            4.155855e-07\n",
       "X86_INTEL_PSTATE            3.845341e-07\n",
       "RTC_DRV_MAX8925             3.689771e-07\n",
       "RD_XZ                       3.495413e-07\n",
       "RCU_STALL_COMMON            3.343749e-07\n",
       "I2C_CHARDEV                 3.331609e-07\n",
       "IIO_SYSFS_TRIGGER           3.311638e-07\n",
       "REGULATOR_MAX1586           3.273783e-07\n",
       "PCI_IOV                     3.255260e-07\n",
       "MFD_MAX8998                 3.038478e-07\n",
       "EEPROM_93CX6                2.976098e-07\n",
       "BATTERY_DS2781              2.853654e-07\n",
       "GPIO_F7188X                 2.830800e-07\n",
       "NTFS_FS                     2.676472e-07\n",
       "MFD_WM5110                  2.611773e-07\n",
       "GCC_PLUGIN_RANDSTRUCT       2.508642e-07\n",
       "HWMON_VID                   2.258920e-07\n",
       "BT                          2.222979e-07\n",
       "REGULATOR_TPS65023          1.633749e-07\n",
       "BMI160_I2C                  1.626400e-07\n",
       "DNOTIFY                     1.415215e-07\n",
       "VIDEO_TW9903                4.492294e-08\n",
       "Length: 1126, dtype: float64"
      ]
     },
     "execution_count": 4,
     "metadata": {},
     "output_type": "execute_result"
    }
   ],
   "source": [
    "col = df.drop(columns=\"cid\").drop(columns=\"kernel_size\").columns\n",
    "importanceSeries = pd.Series(reg.feature_importances_, index=col.values)\n",
    "importanceSeries[importanceSeries > 0].sort_values(ascending=False)"
   ]
  },
  {
   "cell_type": "code",
   "execution_count": 5,
   "metadata": {},
   "outputs": [
    {
     "name": "stderr",
     "output_type": "stream",
     "text": [
      "/usr/local/lib/python3.6/site-packages/ipykernel_launcher.py:1: FutureWarning: The signature of `Series.to_csv` was aligned to that of `DataFrame.to_csv`, and argument 'header' will change its default value from False to True: please pass an explicit value to suppress this warning.\n",
      "  \"\"\"Entry point for launching an IPython kernel.\n"
     ]
    }
   ],
   "source": [
    "importanceSeries[importanceSeries > 0].sort_values(ascending=False).to_csv(\"feature_importance.csv\")"
   ]
  },
  {
   "cell_type": "code",
   "execution_count": null,
   "metadata": {},
   "outputs": [],
   "source": []
  }
 ],
 "metadata": {
  "kernelspec": {
   "display_name": "Python 3",
   "language": "python",
   "name": "python3"
  },
  "language_info": {
   "codemirror_mode": {
    "name": "ipython",
    "version": 3
   },
   "file_extension": ".py",
   "mimetype": "text/x-python",
   "name": "python",
   "nbconvert_exporter": "python",
   "pygments_lexer": "ipython3",
   "version": "3.6.8"
  }
 },
 "nbformat": 4,
 "nbformat_minor": 2
}
