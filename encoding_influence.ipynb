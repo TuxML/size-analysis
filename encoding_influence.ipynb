{
 "cells": [
  {
   "cell_type": "markdown",
   "metadata": {},
   "source": [
    "###  [RQ1] Goal : What encoding should we use? Is it better to use tristate features or dummies?\n",
    "\n",
    "##### I- Tristate features:\n",
    "\n",
    "<i>a-] With the current encoding</i>\n",
    "\n",
    "- 'no' = 0,\n",
    "- 'yes' = 1\n",
    "- 'module' = 2\n",
    "\n",
    "<i>b-] Considering the module values like 'soft yes'</i>\n",
    "\n",
    "- 'no' = 0,\n",
    "- 'module' = 1\n",
    "- 'yes' = 2\n",
    "\n",
    "<i>c-] Considering the module values like 'soft no'</i>\n",
    "\n",
    "- 'yes' = 0,\n",
    "- 'module' = 1\n",
    "- 'no' = 2\n",
    "\n",
    "#### II - Dummies :\n",
    "\n",
    "<i>a-] 'module' $<=>$ 'no'</i>\n",
    "\n",
    "- 'yes' = 1\n",
    "- 'no' or 'module' = 0\n",
    "\n",
    "<i>b-] 'module' $<=>$ 'yes'</i>\n",
    "\n",
    "- 'yes' or 'module' = 1\n",
    "- 'no' = 0\n",
    "\n",
    "## Results => best : II- b-] Dummy yes vs not yes\n",
    "\n",
    "#### Tristate's results; yes values contains more information about kernel sizes\n",
    "\n",
    "#### Dummies' results : if we have to replace the module values with either yes or no, it's definitely no"
   ]
  },
  {
   "cell_type": "markdown",
   "metadata": {},
   "source": [
    "#### Import"
   ]
  },
  {
   "cell_type": "code",
   "execution_count": 1,
   "metadata": {},
   "outputs": [],
   "source": [
    "import numpy as np\n",
    "import pandas as pd\n",
    "import tensorflow as tf\n",
    "from sklearn.model_selection import train_test_split\n",
    "import tuxml"
   ]
  },
  {
   "cell_type": "markdown",
   "metadata": {},
   "source": [
    "#### Test function\n",
    "\n",
    "Best hyperparameters found - best neural network architecture\n",
    "\n",
    "90% of the dataset in the training set\n"
   ]
  },
  {
   "cell_type": "code",
   "execution_count": 2,
   "metadata": {},
   "outputs": [],
   "source": [
    "def compute_net(features, batch_size = 50, nb_epochs = 30, nb_node_layer1 = 200, nb_node_layer2 = 100, lr1 = 0.5, lr2 = 0.025):\n",
    "    \n",
    "    n = 65000\n",
    "    sizes = np.array(features[0:n]['vmlinux'])\n",
    "    x_train, x_test, y_train, y_test = train_test_split(features.drop('vmlinux', axis=1)[0:n], sizes, test_size = 0.1)\n",
    "\n",
    "    nbCol = len(features.columns)\n",
    "\n",
    "    x_train = np.array(x_train, dtype = np.float32)\n",
    "    x_test =  np.array(x_test, dtype = np.float32)\n",
    "\n",
    "    y_train = np.array(y_train, dtype = np.float32)\n",
    "    y_test = np.array(y_test, dtype = np.float32)\n",
    "\n",
    "    nb_features = x_train.shape[1]\n",
    "    \n",
    "    #     batch_size = int(x[0])\n",
    "    #     nb_epochs = int(x[1])\n",
    "    #     nb_node_layer1 = int(x[2])\n",
    "    #     nb_node_layer2 = int(x[3])\n",
    "    #     lr1 = x[4]\n",
    "    #     lr2 = x[5]\n",
    "    \n",
    "    nb_batch_train = int(len(x_train)/batch_size)-1\n",
    "    nb_batch_test = int(len(x_test)/batch_size)\n",
    "    \n",
    "    # slice the datasets => feed_dict was very slow, so I choose an iterator solution\n",
    "    dataset_train = tf.data.Dataset.from_tensor_slices((x_train, y_train)).batch(batch_size)\n",
    "    iterator_train = tf.compat.v1.data.make_initializable_iterator(dataset_train)\n",
    "    xtr, ytr = iterator_train.get_next()\n",
    "\n",
    "    dataset_test = tf.data.Dataset.from_tensor_slices((x_test, y_test)).batch(batch_size)\n",
    "    iterator_test = tf.compat.v1.data.make_initializable_iterator(dataset_test)\n",
    "    xte, yte = iterator_test.get_next()\n",
    "\n",
    "    with tf.device(\"/gpu:0\"):\n",
    "        # Layers training\n",
    "        w_h1_tr = tf.Variable(tf.glorot_uniform_initializer()((nb_features, nb_node_layer1)), name = \"w_h1_tr\")\n",
    "        mat_h1_tr = tf.matmul(xtr, w_h1_tr)\n",
    "        b_h1_tr = tf.Variable(tf.zeros(nb_node_layer1), name=\"b_h1_tr\")\n",
    "        out_h1_tr = tf.nn.relu(tf.add(mat_h1_tr, b_h1_tr))\n",
    "\n",
    "        w_h2_tr = tf.Variable(tf.glorot_uniform_initializer()((nb_node_layer1, nb_node_layer2)), name = \"w_h2_tr\")\n",
    "        mat_h2_tr = tf.matmul(out_h1_tr, w_h2_tr)\n",
    "        b_h2_tr = tf.Variable(tf.zeros(nb_node_layer2), name=\"b_h2_tr\")\n",
    "        out_h2_tr = tf.nn.relu(tf.add(mat_h2_tr, b_h2_tr))\n",
    "\n",
    "        w_final_tr = tf.Variable(tf.glorot_uniform_initializer()((nb_node_layer2, 1)), name = \"w_final_tr\")\n",
    "        outputs_tr = tf.reshape(tf.matmul(out_h2_tr, w_final_tr), shape=[batch_size])\n",
    "        ytr = tf.reshape(ytr, [batch_size])\n",
    "\n",
    "        # Layers test\n",
    "        mat_h1_te = tf.matmul(xte, w_h1_tr)\n",
    "        out_h1_te = tf.nn.relu(tf.add(mat_h1_te, b_h1_tr))\n",
    "\n",
    "        mat_h2_te = tf.matmul(out_h1_te, w_h2_tr)\n",
    "        out_h2_te = tf.nn.relu(tf.add(mat_h2_te, b_h2_tr))\n",
    "\n",
    "        outputs_te =  tf.reshape(tf.matmul(out_h2_te, w_final_tr), shape=[batch_size])\n",
    "        yte = tf.reshape(yte, [batch_size])\n",
    "\n",
    "        # Cost => MAPE\n",
    "        train_cost = tf.keras.losses.MAPE(ytr, outputs_tr)\n",
    "        test_cost = tf.keras.losses.MAPE(yte, outputs_te)\n",
    "\n",
    "        # Convergence function => AdamOptimizer\n",
    "        train_step = tf.train.AdamOptimizer(learning_rate=lr1).minimize(train_cost)\n",
    "\n",
    "        # train step with a lower learning rate => gain few % at the end\n",
    "        tiny_train_step = tf.train.AdamOptimizer(learning_rate=lr2).minimize(train_cost)\n",
    "\n",
    "        # allocate memory for tensors\n",
    "        init = tf.global_variables_initializer()\n",
    "\n",
    "    with tf.Session() as sess:\n",
    "        sess.run(init)\n",
    "        for j in range(nb_epochs):\n",
    "            if j < 20:\n",
    "                sess.run(iterator_train.initializer)\n",
    "                for i in range(nb_batch_train):\n",
    "                    val = sess.run(train_step)\n",
    "                #print(\"Cout entrainement epoch n°\", j+1, \":\",  sess.run(train_cost))\n",
    "            else:\n",
    "                sess.run(iterator_train.initializer)\n",
    "                for i in range(nb_batch_train):\n",
    "                    val = sess.run(tiny_train_step)\n",
    "                #print(\"Cout entrainement epoch n°\", j+1, \":\",  sess.run(train_cost))\n",
    "        mape = 0\n",
    "        sess.run(iterator_train.initializer)\n",
    "        for i in range(nb_batch_train):\n",
    "            mape+=sess.run(train_cost)\n",
    "        mape = 0\n",
    "        sess.run(iterator_test.initializer)\n",
    "        for i in range(nb_batch_test):\n",
    "            mape+=sess.run(test_cost)\n",
    "    return mape/nb_batch_test"
   ]
  },
  {
   "cell_type": "markdown",
   "metadata": {},
   "source": [
    "### I- Tristate features:\n",
    "\n",
    "#### <i>a-] With the current encoding</i>\n",
    "\n",
    "- 'no' = 0,\n",
    "- 'yes' = 1\n",
    "- 'module' = 2"
   ]
  },
  {
   "cell_type": "code",
   "execution_count": 3,
   "metadata": {},
   "outputs": [
    {
     "name": "stdout",
     "output_type": "stream",
     "text": [
      "WARNING:tensorflow:From C:\\Users\\llesoil\\Documents\\Anaconda3\\envs\\tensor_gpu\\lib\\site-packages\\tensorflow\\python\\data\\ops\\dataset_ops.py:1419: colocate_with (from tensorflow.python.framework.ops) is deprecated and will be removed in a future version.\n",
      "Instructions for updating:\n",
      "Colocations handled automatically by placer.\n",
      "WARNING:tensorflow:From C:\\Users\\llesoil\\Documents\\Anaconda3\\envs\\tensor_gpu\\lib\\site-packages\\tensorflow\\python\\ops\\math_ops.py:3066: to_int32 (from tensorflow.python.ops.math_ops) is deprecated and will be removed in a future version.\n",
      "Instructions for updating:\n",
      "Use tf.cast instead.\n",
      "MAPE I- a] : 8.541988591414231\n"
     ]
    }
   ],
   "source": [
    "features = tuxml.load_dataset()\n",
    "selection = pd.read_csv(\"feature_net.csv\", index_col = 0, skiprows = 1, names = ['feat'])['feat']\n",
    "selection[len(selection)] = 'vmlinux'\n",
    "features = features[selection]\n",
    "\n",
    "res_tristate = []\n",
    "for i in range(5):\n",
    "    res_tristate.append(compute_net(features))\n",
    "\n",
    "mape1a = np.mean(res_tristate)\n",
    "print(\"MAPE I- a] :\", mape1a)"
   ]
  },
  {
   "cell_type": "markdown",
   "metadata": {},
   "source": [
    "#### <i>b-] Considering the module values like 'soft yes'</i>\n",
    "\n",
    "- 'no' = 0,\n",
    "- 'module' = 1\n",
    "- 'yes' = 2"
   ]
  },
  {
   "cell_type": "code",
   "execution_count": 4,
   "metadata": {},
   "outputs": [
    {
     "name": "stdout",
     "output_type": "stream",
     "text": [
      "MAPE I- b] : 6.78992106290964\n"
     ]
    }
   ],
   "source": [
    "features = tuxml.load_dataset()\n",
    "selection = pd.read_csv(\"feature_net.csv\", index_col = 0, skiprows = 1, names = ['feat'])['feat']\n",
    "selection[len(selection)] = 'vmlinux'\n",
    "features = features[selection].replace([1,2,-1],[2,1,0])\n",
    "\n",
    "\n",
    "res_tristate2 = []\n",
    "for i in range(5):\n",
    "    res_tristate2.append(compute_net(features))\n",
    "\n",
    "mape1b = np.mean(res_tristate2)\n",
    "print(\"MAPE I- b] :\", mape1b)"
   ]
  },
  {
   "cell_type": "markdown",
   "metadata": {},
   "source": [
    "#### <i>c-] Considering the module values like 'soft no'</i>\n",
    "\n",
    "- 'yes' = 0,\n",
    "- 'module' = 1\n",
    "- 'no' = 2"
   ]
  },
  {
   "cell_type": "code",
   "execution_count": 7,
   "metadata": {},
   "outputs": [
    {
     "name": "stdout",
     "output_type": "stream",
     "text": [
      "MAPE I- c] : 9.194793124565711\n"
     ]
    }
   ],
   "source": [
    "features = tuxml.load_dataset()\n",
    "selection = pd.read_csv(\"feature_net.csv\", index_col = 0, skiprows = 1, names = ['feat'])['feat']\n",
    "selection[len(selection)] = 'vmlinux'\n",
    "features = features[selection].replace([0,1,2,-1],[2,0,1,2])\n",
    "\n",
    "\n",
    "res_tristate3 = []\n",
    "for i in range(5):\n",
    "    res_tristate3.append(compute_net(features))\n",
    "\n",
    "mape1c = np.mean(res_tristate3)\n",
    "print(\"MAPE I- c] :\", mape1c)"
   ]
  },
  {
   "cell_type": "markdown",
   "metadata": {},
   "source": [
    "### II - Dummies :\n",
    "\n",
    "####  <i>a-] 'module' $<=>$ 'no'</i>\n",
    "\n",
    "- 'yes' = 1\n",
    "- 'no' or 'module' = 0"
   ]
  },
  {
   "cell_type": "code",
   "execution_count": 5,
   "metadata": {},
   "outputs": [
    {
     "name": "stdout",
     "output_type": "stream",
     "text": [
      "MAPE II- a] : 5.939016503554124\n"
     ]
    }
   ],
   "source": [
    "features = tuxml.load_dataset()\n",
    "selection = pd.read_csv(\"feature_net.csv\", index_col = 0, skiprows = 1, names = ['feat'])['feat']\n",
    "selection[len(selection)] = 'vmlinux'\n",
    "features = features[selection].replace([2,-1],0)\n",
    "\n",
    "\n",
    "res_dummy = []\n",
    "for i in range(5):\n",
    "    res_dummy.append(compute_net(features))\n",
    "\n",
    "mape2a = np.mean(res_dummy)\n",
    "print(\"MAPE II- a] :\", mape2a)"
   ]
  },
  {
   "cell_type": "markdown",
   "metadata": {},
   "source": [
    "#### <i>b-] 'module' $<=>$ 'yes'</i>\n",
    "\n",
    "- 'yes' or 'module' = 1\n",
    "- 'no' = 0"
   ]
  },
  {
   "cell_type": "code",
   "execution_count": 6,
   "metadata": {},
   "outputs": [
    {
     "name": "stdout",
     "output_type": "stream",
     "text": [
      "MAPE II- a] : 8.345303451831523\n"
     ]
    }
   ],
   "source": [
    "features = tuxml.load_dataset()\n",
    "selection = pd.read_csv(\"feature_net.csv\", index_col = 0, skiprows = 1, names = ['feat'])['feat']\n",
    "selection[len(selection)] = 'vmlinux'\n",
    "features = features[selection].replace([2, -1], [1, 0])\n",
    "\n",
    "res_dummy2 = []\n",
    "for i in range(5):\n",
    "    res_dummy2.append(compute_net(features))\n",
    "\n",
    "mape2b = np.mean(res_dummy2)\n",
    "print(\"MAPE II- a] :\", mape2b)"
   ]
  }
 ],
 "metadata": {
  "kernelspec": {
   "display_name": "Python 3",
   "language": "python",
   "name": "python3"
  },
  "language_info": {
   "codemirror_mode": {
    "name": "ipython",
    "version": 3
   },
   "file_extension": ".py",
   "mimetype": "text/x-python",
   "name": "python",
   "nbconvert_exporter": "python",
   "pygments_lexer": "ipython3",
   "version": "3.7.3"
  }
 },
 "nbformat": 4,
 "nbformat_minor": 2
}
