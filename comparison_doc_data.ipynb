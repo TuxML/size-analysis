{
 "cells": [
  {
   "cell_type": "markdown",
   "metadata": {},
   "source": [
    "## Goal : compare the documentation to the data collected with kernel compilation\n",
    "\n",
    "--\n",
    "\n",
    "Can we find the informations given by the documentation with the dataset?\n",
    "\n",
    "### Results : 70/107  features corresponding\n",
    "\n",
    "### TODO:\n",
    "- check if each modality is well represented\n",
    "- read the doc again?"
   ]
  },
  {
   "cell_type": "code",
   "execution_count": 1,
   "metadata": {},
   "outputs": [],
   "source": [
    "import pandas as pd\n",
    "import numpy as np\n",
    "import matplotlib.pyplot as plt"
   ]
  },
  {
   "cell_type": "markdown",
   "metadata": {},
   "source": [
    "### Import the different datasets"
   ]
  },
  {
   "cell_type": "markdown",
   "metadata": {},
   "source": [
    "#### I - Extracted from the documentation:"
   ]
  },
  {
   "cell_type": "code",
   "execution_count": 2,
   "metadata": {},
   "outputs": [
    {
     "data": {
      "text/html": [
       "<div>\n",
       "<style scoped>\n",
       "    .dataframe tbody tr th:only-of-type {\n",
       "        vertical-align: middle;\n",
       "    }\n",
       "\n",
       "    .dataframe tbody tr th {\n",
       "        vertical-align: top;\n",
       "    }\n",
       "\n",
       "    .dataframe thead th {\n",
       "        text-align: right;\n",
       "    }\n",
       "</style>\n",
       "<table border=\"1\" class=\"dataframe\">\n",
       "  <thead>\n",
       "    <tr style=\"text-align: right;\">\n",
       "      <th></th>\n",
       "      <th>keyword</th>\n",
       "      <th>yes_increase_size</th>\n",
       "      <th>size_diff</th>\n",
       "    </tr>\n",
       "    <tr>\n",
       "      <th>features</th>\n",
       "      <th></th>\n",
       "      <th></th>\n",
       "      <th></th>\n",
       "    </tr>\n",
       "  </thead>\n",
       "  <tbody>\n",
       "    <tr>\n",
       "      <th>ZRAM</th>\n",
       "      <td>compress</td>\n",
       "      <td>False</td>\n",
       "      <td>NaN</td>\n",
       "    </tr>\n",
       "    <tr>\n",
       "      <th>KERNEL_GZIP</th>\n",
       "      <td>compress</td>\n",
       "      <td>False</td>\n",
       "      <td>NaN</td>\n",
       "    </tr>\n",
       "    <tr>\n",
       "      <th>KERNEL_BZIP2</th>\n",
       "      <td>compress</td>\n",
       "      <td>False</td>\n",
       "      <td>NaN</td>\n",
       "    </tr>\n",
       "    <tr>\n",
       "      <th>KERNEL_LZMA</th>\n",
       "      <td>compress</td>\n",
       "      <td>False</td>\n",
       "      <td>NaN</td>\n",
       "    </tr>\n",
       "    <tr>\n",
       "      <th>KERNEL_XZ</th>\n",
       "      <td>compress</td>\n",
       "      <td>False</td>\n",
       "      <td>NaN</td>\n",
       "    </tr>\n",
       "  </tbody>\n",
       "</table>\n",
       "</div>"
      ],
      "text/plain": [
       "               keyword  yes_increase_size size_diff\n",
       "features                                           \n",
       "ZRAM          compress              False       NaN\n",
       "KERNEL_GZIP   compress              False       NaN\n",
       "KERNEL_BZIP2  compress              False       NaN\n",
       "KERNEL_LZMA   compress              False       NaN\n",
       "KERNEL_XZ     compress              False       NaN"
      ]
     },
     "execution_count": 2,
     "metadata": {},
     "output_type": "execute_result"
    }
   ],
   "source": [
    "doc = pd.read_csv(r'C:\\Users\\llesoil\\Documents\\tuxml\\features_details.csv', index_col=0)\n",
    "doc.head()"
   ]
  },
  {
   "cell_type": "markdown",
   "metadata": {},
   "source": [
    "- features => name\n",
    "- keyword => which csv give the result (useless here)\n",
    "- yes_increase_size => boolean, answering the question \"Does the kernel size increase (True) or Decrease (False) if I activate this feature?\"\n",
    "- size_diff => if it's mentioned in the documentation, what difference of size should be seen between a kernel with/without this feature activated?"
   ]
  },
  {
   "cell_type": "code",
   "execution_count": 3,
   "metadata": {},
   "outputs": [],
   "source": [
    "feat_doc = np.array(doc.index)"
   ]
  },
  {
   "cell_type": "markdown",
   "metadata": {},
   "source": [
    "#### II - Collected data:"
   ]
  },
  {
   "cell_type": "code",
   "execution_count": 4,
   "metadata": {},
   "outputs": [],
   "source": [
    "features = pd.read_csv(\"dataset_before_encoding.csv\", low_memory = False)"
   ]
  },
  {
   "cell_type": "markdown",
   "metadata": {},
   "source": [
    "#### III - Some tests/cleaning\n",
    "\n",
    "##### a] Are all the features from the documentation in our dataset?"
   ]
  },
  {
   "cell_type": "code",
   "execution_count": 5,
   "metadata": {},
   "outputs": [
    {
     "name": "stdout",
     "output_type": "stream",
     "text": [
      "78 %  of the features of the documentation are present in the dataset\n"
     ]
    }
   ],
   "source": [
    "all_features = features.columns\n",
    "f_in_dataset = []\n",
    "for f in feat_doc:\n",
    "    if f in all_features:\n",
    "        f_in_dataset.append(f)\n",
    "print(int(len(f_in_dataset)/len(feat_doc)*100), \"%  of the features of the documentation are present in the dataset\")"
   ]
  },
  {
   "cell_type": "code",
   "execution_count": 20,
   "metadata": {},
   "outputs": [],
   "source": [
    "features_common = features[f_in_dataset]"
   ]
  },
  {
   "cell_type": "markdown",
   "metadata": {},
   "source": [
    "We keep them in a new dataset\n",
    "\n",
    "###### b] We remove all the features with wrong type (i.e. other than strings)"
   ]
  },
  {
   "cell_type": "code",
   "execution_count": 21,
   "metadata": {},
   "outputs": [
    {
     "data": {
      "text/html": [
       "<div>\n",
       "<style scoped>\n",
       "    .dataframe tbody tr th:only-of-type {\n",
       "        vertical-align: middle;\n",
       "    }\n",
       "\n",
       "    .dataframe tbody tr th {\n",
       "        vertical-align: top;\n",
       "    }\n",
       "\n",
       "    .dataframe thead th {\n",
       "        text-align: right;\n",
       "    }\n",
       "</style>\n",
       "<table border=\"1\" class=\"dataframe\">\n",
       "  <thead>\n",
       "    <tr style=\"text-align: right;\">\n",
       "      <th></th>\n",
       "      <th>ZRAM</th>\n",
       "      <th>KERNEL_GZIP</th>\n",
       "      <th>KERNEL_BZIP2</th>\n",
       "      <th>KERNEL_LZMA</th>\n",
       "      <th>KERNEL_XZ</th>\n",
       "      <th>KERNEL_LZO</th>\n",
       "      <th>KERNEL_LZ4</th>\n",
       "      <th>INITRAMFS_COMPRESSION_NONE</th>\n",
       "      <th>INITRAMFS_COMPRESSION_GZIP</th>\n",
       "      <th>INITRAMFS_COMPRESSION_BZIP2</th>\n",
       "      <th>...</th>\n",
       "      <th>XEN_STUB</th>\n",
       "      <th>CAN_CALC_BITTIMING</th>\n",
       "      <th>ADVISE_SYSCALLS</th>\n",
       "      <th>SLOB</th>\n",
       "      <th>BATMAN_ADV_BLA</th>\n",
       "      <th>BATMAN_ADV_DAT</th>\n",
       "      <th>BATMAN_ADV_NC</th>\n",
       "      <th>SYSFS</th>\n",
       "      <th>SYSTEM_EXTRA_CERTIFICATE</th>\n",
       "      <th>X86_FEATURE_NAMES</th>\n",
       "    </tr>\n",
       "  </thead>\n",
       "  <tbody>\n",
       "    <tr>\n",
       "      <th>0</th>\n",
       "      <td>n</td>\n",
       "      <td>n</td>\n",
       "      <td>n</td>\n",
       "      <td>n</td>\n",
       "      <td>n</td>\n",
       "      <td>n</td>\n",
       "      <td>y</td>\n",
       "      <td>n</td>\n",
       "      <td>n</td>\n",
       "      <td>n</td>\n",
       "      <td>...</td>\n",
       "      <td>n</td>\n",
       "      <td>n</td>\n",
       "      <td>n</td>\n",
       "      <td>n</td>\n",
       "      <td>n</td>\n",
       "      <td>n</td>\n",
       "      <td>n</td>\n",
       "      <td>y</td>\n",
       "      <td>n</td>\n",
       "      <td>y</td>\n",
       "    </tr>\n",
       "    <tr>\n",
       "      <th>1</th>\n",
       "      <td>n</td>\n",
       "      <td>n</td>\n",
       "      <td>n</td>\n",
       "      <td>n</td>\n",
       "      <td>n</td>\n",
       "      <td>n</td>\n",
       "      <td>y</td>\n",
       "      <td>n</td>\n",
       "      <td>n</td>\n",
       "      <td>n</td>\n",
       "      <td>...</td>\n",
       "      <td>n</td>\n",
       "      <td>n</td>\n",
       "      <td>n</td>\n",
       "      <td>n</td>\n",
       "      <td>n</td>\n",
       "      <td>n</td>\n",
       "      <td>n</td>\n",
       "      <td>y</td>\n",
       "      <td>n</td>\n",
       "      <td>y</td>\n",
       "    </tr>\n",
       "    <tr>\n",
       "      <th>2</th>\n",
       "      <td>y</td>\n",
       "      <td>n</td>\n",
       "      <td>n</td>\n",
       "      <td>n</td>\n",
       "      <td>n</td>\n",
       "      <td>n</td>\n",
       "      <td>y</td>\n",
       "      <td>n</td>\n",
       "      <td>n</td>\n",
       "      <td>n</td>\n",
       "      <td>...</td>\n",
       "      <td>n</td>\n",
       "      <td>n</td>\n",
       "      <td>y</td>\n",
       "      <td>n</td>\n",
       "      <td>n</td>\n",
       "      <td>n</td>\n",
       "      <td>n</td>\n",
       "      <td>y</td>\n",
       "      <td>n</td>\n",
       "      <td>y</td>\n",
       "    </tr>\n",
       "    <tr>\n",
       "      <th>3</th>\n",
       "      <td>n</td>\n",
       "      <td>n</td>\n",
       "      <td>n</td>\n",
       "      <td>n</td>\n",
       "      <td>n</td>\n",
       "      <td>n</td>\n",
       "      <td>y</td>\n",
       "      <td>n</td>\n",
       "      <td>n</td>\n",
       "      <td>n</td>\n",
       "      <td>...</td>\n",
       "      <td>n</td>\n",
       "      <td>n</td>\n",
       "      <td>n</td>\n",
       "      <td>n</td>\n",
       "      <td>n</td>\n",
       "      <td>n</td>\n",
       "      <td>n</td>\n",
       "      <td>y</td>\n",
       "      <td>n</td>\n",
       "      <td>y</td>\n",
       "    </tr>\n",
       "    <tr>\n",
       "      <th>4</th>\n",
       "      <td>n</td>\n",
       "      <td>n</td>\n",
       "      <td>n</td>\n",
       "      <td>n</td>\n",
       "      <td>n</td>\n",
       "      <td>n</td>\n",
       "      <td>y</td>\n",
       "      <td>n</td>\n",
       "      <td>n</td>\n",
       "      <td>n</td>\n",
       "      <td>...</td>\n",
       "      <td>n</td>\n",
       "      <td>y</td>\n",
       "      <td>n</td>\n",
       "      <td>n</td>\n",
       "      <td>n</td>\n",
       "      <td>n</td>\n",
       "      <td>n</td>\n",
       "      <td>y</td>\n",
       "      <td>n</td>\n",
       "      <td>n</td>\n",
       "    </tr>\n",
       "  </tbody>\n",
       "</table>\n",
       "<p>5 rows × 137 columns</p>\n",
       "</div>"
      ],
      "text/plain": [
       "  ZRAM KERNEL_GZIP KERNEL_BZIP2 KERNEL_LZMA KERNEL_XZ KERNEL_LZO KERNEL_LZ4  \\\n",
       "0    n           n            n           n         n          n          y   \n",
       "1    n           n            n           n         n          n          y   \n",
       "2    y           n            n           n         n          n          y   \n",
       "3    n           n            n           n         n          n          y   \n",
       "4    n           n            n           n         n          n          y   \n",
       "\n",
       "  INITRAMFS_COMPRESSION_NONE INITRAMFS_COMPRESSION_GZIP  \\\n",
       "0                          n                          n   \n",
       "1                          n                          n   \n",
       "2                          n                          n   \n",
       "3                          n                          n   \n",
       "4                          n                          n   \n",
       "\n",
       "  INITRAMFS_COMPRESSION_BZIP2  ... XEN_STUB CAN_CALC_BITTIMING  \\\n",
       "0                           n  ...        n                  n   \n",
       "1                           n  ...        n                  n   \n",
       "2                           n  ...        n                  n   \n",
       "3                           n  ...        n                  n   \n",
       "4                           n  ...        n                  y   \n",
       "\n",
       "  ADVISE_SYSCALLS SLOB BATMAN_ADV_BLA BATMAN_ADV_DAT BATMAN_ADV_NC SYSFS  \\\n",
       "0               n    n              n              n             n     y   \n",
       "1               n    n              n              n             n     y   \n",
       "2               y    n              n              n             n     y   \n",
       "3               n    n              n              n             n     y   \n",
       "4               n    n              n              n             n     y   \n",
       "\n",
       "  SYSTEM_EXTRA_CERTIFICATE X86_FEATURE_NAMES  \n",
       "0                        n                 y  \n",
       "1                        n                 y  \n",
       "2                        n                 y  \n",
       "3                        n                 y  \n",
       "4                        n                 n  \n",
       "\n",
       "[5 rows x 137 columns]"
      ]
     },
     "execution_count": 21,
     "metadata": {},
     "output_type": "execute_result"
    }
   ],
   "source": [
    "wrong_type_f = features_common.columns[np.where(features_common.dtypes != object)]\n",
    "features_common = features_common.drop(wrong_type_f , axis=1)\n",
    "features_common.head()"
   ]
  },
  {
   "cell_type": "markdown",
   "metadata": {},
   "source": [
    "###### c] We remove all the features which don' t take the yes modality or just take the yes values"
   ]
  },
  {
   "cell_type": "code",
   "execution_count": 22,
   "metadata": {},
   "outputs": [],
   "source": [
    "to_drop_f = []\n",
    "\n",
    "for f in features_common.columns:\n",
    "    tab = features_common[f]\n",
    "    unique_values = tab.unique()\n",
    "    if 'y' not in unique_values or len(unique_values) == 1:\n",
    "        to_drop_f.append(f)\n",
    "\n",
    "features_common = features_common.drop(to_drop_f , axis=1)\n",
    "\n",
    "# we add the kernel size\n",
    "features_common['vmlinux'] = features['vmlinux']"
   ]
  },
  {
   "cell_type": "markdown",
   "metadata": {},
   "source": [
    "### Comparison doc vs data : Does the feature increase the kernel size?"
   ]
  },
  {
   "cell_type": "markdown",
   "metadata": {},
   "source": [
    "##### I - On the first example:"
   ]
  },
  {
   "cell_type": "code",
   "execution_count": 31,
   "metadata": {},
   "outputs": [
    {
     "data": {
      "text/html": [
       "<div>\n",
       "<style scoped>\n",
       "    .dataframe tbody tr th:only-of-type {\n",
       "        vertical-align: middle;\n",
       "    }\n",
       "\n",
       "    .dataframe tbody tr th {\n",
       "        vertical-align: top;\n",
       "    }\n",
       "\n",
       "    .dataframe thead th {\n",
       "        text-align: right;\n",
       "    }\n",
       "</style>\n",
       "<table border=\"1\" class=\"dataframe\">\n",
       "  <thead>\n",
       "    <tr style=\"text-align: right;\">\n",
       "      <th></th>\n",
       "      <th>vmlinux</th>\n",
       "    </tr>\n",
       "    <tr>\n",
       "      <th>ZRAM</th>\n",
       "      <th></th>\n",
       "    </tr>\n",
       "  </thead>\n",
       "  <tbody>\n",
       "    <tr>\n",
       "      <th>m</th>\n",
       "      <td>4.356816e+07</td>\n",
       "    </tr>\n",
       "    <tr>\n",
       "      <th>n</th>\n",
       "      <td>5.543132e+07</td>\n",
       "    </tr>\n",
       "    <tr>\n",
       "      <th>y</th>\n",
       "      <td>6.930037e+07</td>\n",
       "    </tr>\n",
       "  </tbody>\n",
       "</table>\n",
       "</div>"
      ],
      "text/plain": [
       "           vmlinux\n",
       "ZRAM              \n",
       "m     4.356816e+07\n",
       "n     5.543132e+07\n",
       "y     6.930037e+07"
      ]
     },
     "execution_count": 31,
     "metadata": {},
     "output_type": "execute_result"
    }
   ],
   "source": [
    "f_com = features_common.columns\n",
    "f_com = f_com[0: len(f_com)-1]\n",
    "\n",
    "size_mod = features_common.groupby(f_com[0]).mean()\n",
    "size_mod"
   ]
  },
  {
   "cell_type": "markdown",
   "metadata": {},
   "source": [
    "For each features, we compute the the average size for all the modalities ('y', 'm', 'n').\n",
    "We keep the modality correponding to the biggest value."
   ]
  },
  {
   "cell_type": "code",
   "execution_count": 32,
   "metadata": {},
   "outputs": [
    {
     "data": {
      "text/plain": [
       "'y'"
      ]
     },
     "execution_count": 32,
     "metadata": {},
     "output_type": "execute_result"
    }
   ],
   "source": [
    "size_mod.index[np.argmax(np.array(size_mod))]"
   ]
  },
  {
   "cell_type": "markdown",
   "metadata": {},
   "source": [
    "In our case, the 'yes' modality has a bigger size than others, which means that we can find a correlation between a bigger kernel size and the activation of the feature 'ZRAM'. This does not prove the causality (i.e. check 'yes' implies always a bigger size).\n",
    "\n",
    "At least we want to find correlations correponding to the documentation."
   ]
  },
  {
   "cell_type": "markdown",
   "metadata": {},
   "source": [
    "For the rest of the dataset"
   ]
  },
  {
   "cell_type": "code",
   "execution_count": 33,
   "metadata": {},
   "outputs": [],
   "source": [
    "mod = []\n",
    "for f in f_com:\n",
    "    size_mod = features_common.groupby(f).mean()\n",
    "    mod.append(size_mod.index[np.argmax(np.array(size_mod))])"
   ]
  },
  {
   "cell_type": "markdown",
   "metadata": {},
   "source": [
    "We join the results to the dataframe with documentation"
   ]
  },
  {
   "cell_type": "code",
   "execution_count": 34,
   "metadata": {},
   "outputs": [
    {
     "data": {
      "text/html": [
       "<div>\n",
       "<style scoped>\n",
       "    .dataframe tbody tr th:only-of-type {\n",
       "        vertical-align: middle;\n",
       "    }\n",
       "\n",
       "    .dataframe tbody tr th {\n",
       "        vertical-align: top;\n",
       "    }\n",
       "\n",
       "    .dataframe thead th {\n",
       "        text-align: right;\n",
       "    }\n",
       "</style>\n",
       "<table border=\"1\" class=\"dataframe\">\n",
       "  <thead>\n",
       "    <tr style=\"text-align: right;\">\n",
       "      <th></th>\n",
       "      <th>biggest_size_mod</th>\n",
       "      <th>keyword</th>\n",
       "      <th>yes_increase_size</th>\n",
       "      <th>size_diff</th>\n",
       "    </tr>\n",
       "    <tr>\n",
       "      <th>features</th>\n",
       "      <th></th>\n",
       "      <th></th>\n",
       "      <th></th>\n",
       "      <th></th>\n",
       "    </tr>\n",
       "  </thead>\n",
       "  <tbody>\n",
       "    <tr>\n",
       "      <th>ZRAM</th>\n",
       "      <td>y</td>\n",
       "      <td>compress</td>\n",
       "      <td>False</td>\n",
       "      <td>NaN</td>\n",
       "    </tr>\n",
       "    <tr>\n",
       "      <th>MODULE_COMPRESS</th>\n",
       "      <td>n</td>\n",
       "      <td>compress</td>\n",
       "      <td>False</td>\n",
       "      <td>NaN</td>\n",
       "    </tr>\n",
       "    <tr>\n",
       "      <th>ZSWAP</th>\n",
       "      <td>y</td>\n",
       "      <td>compress</td>\n",
       "      <td>False</td>\n",
       "      <td>NaN</td>\n",
       "    </tr>\n",
       "    <tr>\n",
       "      <th>ZPOOL</th>\n",
       "      <td>y</td>\n",
       "      <td>compress</td>\n",
       "      <td>False</td>\n",
       "      <td>NaN</td>\n",
       "    </tr>\n",
       "    <tr>\n",
       "      <th>ZBUD</th>\n",
       "      <td>y</td>\n",
       "      <td>compress</td>\n",
       "      <td>False</td>\n",
       "      <td>NaN</td>\n",
       "    </tr>\n",
       "  </tbody>\n",
       "</table>\n",
       "</div>"
      ],
      "text/plain": [
       "                biggest_size_mod   keyword  yes_increase_size size_diff\n",
       "features                                                               \n",
       "ZRAM                           y  compress              False       NaN\n",
       "MODULE_COMPRESS                n  compress              False       NaN\n",
       "ZSWAP                          y  compress              False       NaN\n",
       "ZPOOL                          y  compress              False       NaN\n",
       "ZBUD                           y  compress              False       NaN"
      ]
     },
     "execution_count": 34,
     "metadata": {},
     "output_type": "execute_result"
    }
   ],
   "source": [
    "res = pd.DataFrame(np.transpose([f_com ,  mod]), columns = [\"features\", \"biggest_size_mod\"]).set_index(\"features\").join(doc)\n",
    "res.head()"
   ]
  },
  {
   "cell_type": "markdown",
   "metadata": {},
   "source": [
    "### Results"
   ]
  },
  {
   "cell_type": "code",
   "execution_count": 40,
   "metadata": {},
   "outputs": [
    {
     "name": "stdout",
     "output_type": "stream",
     "text": [
      "For 70 features on the 107 we can compare, the documentation corresponds to the dataset.\n"
     ]
    }
   ],
   "source": [
    "print(\"For\", np.sum((res[\"biggest_size_mod\"]=='y')==res[\"yes_increase_size\"]), \"features on the\", res.shape[0], \n",
    "      \"we can compare, the documentation corresponds to the dataset.\")"
   ]
  },
  {
   "cell_type": "markdown",
   "metadata": {},
   "source": []
  }
 ],
 "metadata": {
  "kernelspec": {
   "display_name": "Python 3",
   "language": "python",
   "name": "python3"
  },
  "language_info": {
   "codemirror_mode": {
    "name": "ipython",
    "version": 3
   },
   "file_extension": ".py",
   "mimetype": "text/x-python",
   "name": "python",
   "nbconvert_exporter": "python",
   "pygments_lexer": "ipython3",
   "version": "3.7.3"
  }
 },
 "nbformat": 4,
 "nbformat_minor": 2
}
