{
 "cells": [
  {
   "cell_type": "code",
   "execution_count": 13,
   "metadata": {},
   "outputs": [],
   "source": [
    "import pandas as pd\n",
    "import tuxml\n",
    "\n",
    "df = tuxml.load_dataset()"
   ]
  },
  {
   "cell_type": "code",
   "execution_count": 14,
   "metadata": {},
   "outputs": [
    {
     "data": {
      "text/plain": [
       "(92471, 9259)"
      ]
     },
     "execution_count": 14,
     "metadata": {},
     "output_type": "execute_result"
    }
   ],
   "source": [
    "df.shape"
   ]
  },
  {
   "cell_type": "code",
   "execution_count": 15,
   "metadata": {},
   "outputs": [
    {
     "data": {
      "text/plain": [
       "0    82074\n",
       "1    10397\n",
       "Name: CC_OPTIMIZE_FOR_SIZE, dtype: int64"
      ]
     },
     "execution_count": 15,
     "metadata": {},
     "output_type": "execute_result"
    }
   ],
   "source": [
    "ft_to_explore = 'CC_OPTIMIZE_FOR_SIZE'\n",
    "df[ft_to_explore].value_counts()"
   ]
  },
  {
   "cell_type": "code",
   "execution_count": 17,
   "metadata": {},
   "outputs": [
    {
     "data": {
      "text/plain": [
       "46588    62253\n",
       "46591    62256\n",
       "46973    62638\n",
       "47056    62721\n",
       "53985    69651\n",
       "54049    69715\n",
       "54088    69754\n",
       "54119    69785\n",
       "54172    69838\n",
       "54199    69865\n",
       "Name: cid, dtype: int64"
      ]
     },
     "execution_count": 17,
     "metadata": {},
     "output_type": "execute_result"
    }
   ],
   "source": [
    "df.query(\"CC_OPTIMIZE_FOR_SIZE == 1\")['cid'][:10]"
   ]
  },
  {
   "cell_type": "code",
   "execution_count": 22,
   "metadata": {},
   "outputs": [],
   "source": [
    "#YES_VALUE = 1\n",
    "#cf0 = df.query(\"CC_OPTIMIZE_FOR_SIZE == 1\").iloc[0]\n",
    "#for o, v in cf0.iteritems():\n",
    "#    if (v == YES_VALUE):\n",
    "#        print(o, v)\n",
    "#    elif (v == )"
   ]
  },
  {
   "cell_type": "code",
   "execution_count": null,
   "metadata": {},
   "outputs": [],
   "source": []
  }
 ],
 "metadata": {
  "kernelspec": {
   "display_name": "Python 3",
   "language": "python",
   "name": "python3"
  },
  "language_info": {
   "codemirror_mode": {
    "name": "ipython",
    "version": 3
   },
   "file_extension": ".py",
   "mimetype": "text/x-python",
   "name": "python",
   "nbconvert_exporter": "python",
   "pygments_lexer": "ipython3",
   "version": "3.7.3"
  }
 },
 "nbformat": 4,
 "nbformat_minor": 2
}
