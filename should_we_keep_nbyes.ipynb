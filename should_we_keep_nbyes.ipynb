{
 "cells": [
  {
   "cell_type": "markdown",
   "metadata": {},
   "source": [
    "## Goal : Should we keep nbyes/nbno in the list of features?\n",
    "\n",
    "We have to keep in mind that it must be checked with interpretables algorithms.\n",
    "\n",
    "## Results =>  It does not change the results\n",
    "\n",
    "### Maybe they are important in the random forest algorithms because they are way bigger than other features?\n",
    "\n",
    "### Try to feed the trees with proportions instead of counts?"
   ]
  },
  {
   "cell_type": "code",
   "execution_count": 2,
   "metadata": {},
   "outputs": [],
   "source": [
    "import numpy as np\n",
    "import pandas as pd\n",
    "import tensorflow as tf\n",
    "from sklearn.model_selection import train_test_split\n",
    "from sklearn.linear_model import LinearRegression\n",
    "import tuxml"
   ]
  },
  {
   "cell_type": "markdown",
   "metadata": {},
   "source": [
    "Simple comparison on 10 launches:\n",
    "- with the nbyes options\n",
    "- without the nbno options\n",
    "\n",
    "Conclusions:\n",
    "- If the test MAPE is significatively under with nbyes/nbno, then we have to keep it.\n",
    "- If the test MAPE does not change with/without nbyes/nbno, it does not have so much importance (at least for neural networks)\n",
    "- If the test MAPE is significatively under without nbyes/nbno, then we have to drop it."
   ]
  },
  {
   "cell_type": "markdown",
   "metadata": {},
   "source": [
    "## With"
   ]
  },
  {
   "cell_type": "code",
   "execution_count": 3,
   "metadata": {},
   "outputs": [],
   "source": [
    "features = tuxml.load_dataset()\n",
    "selection = pd.read_csv(\"feature_net_with_nb.csv\", index_col = 0, skiprows = 1, names = ['feat'])['feat']\n",
    "selection[len(selection)] = 'vmlinux'\n",
    "features = features[selection].replace([2,-1],0)\n",
    "nb_features = 12611\n",
    "to_normalize = ['nbyes', 'nbno', 'nbmodule', 'nbyesmodule']\n",
    "for feat in to_normalize:\n",
    "    if feat in features.columns:\n",
    "        features[feat] = features[feat]/nb_features"
   ]
  },
  {
   "cell_type": "code",
   "execution_count": 4,
   "metadata": {},
   "outputs": [],
   "source": [
    "n = 65500\n",
    "sizes = np.array(features[0:n]['vmlinux'])\n",
    "x_train, x_test, y_train, y_test = train_test_split(features.drop('vmlinux', axis=1)[0:n], sizes, test_size = 0.2)\n",
    "\n",
    "nbCol = len(features.columns)\n",
    "\n",
    "x_train = np.array(x_train, dtype = np.float32)\n",
    "x_test =  np.array(x_test, dtype = np.float32)\n",
    "\n",
    "y_train = np.array(y_train, dtype = np.float32)\n",
    "y_test = np.array(y_test, dtype = np.float32)"
   ]
  },
  {
   "cell_type": "code",
   "execution_count": 7,
   "metadata": {},
   "outputs": [
    {
     "name": "stdout",
     "output_type": "stream",
     "text": [
      "With : 6.229020699653916\n"
     ]
    }
   ],
   "source": [
    "nb_features = x_train.shape[1]\n",
    "batch_size = 100\n",
    "nb_epochs = 40\n",
    "nb_batch_train = int(len(x_train)/batch_size)-1\n",
    "nb_batch_test = int(len(x_test)/batch_size)\n",
    "nb_node_layer1 = 200\n",
    "nb_node_layer2 = 100\n",
    "\n",
    "res = []\n",
    "\n",
    "for i in range(10):\n",
    "    # slice the datasets => feed_dict was very slow, so I switch to an iterator solution\n",
    "    dataset_train = tf.data.Dataset.from_tensor_slices((x_train, y_train)).batch(batch_size)\n",
    "    iterator_train = tf.compat.v1.data.make_initializable_iterator(dataset_train)\n",
    "    xtr, ytr = iterator_train.get_next()\n",
    "\n",
    "    dataset_test = tf.data.Dataset.from_tensor_slices((x_test, y_test)).batch(batch_size)\n",
    "    iterator_test = tf.compat.v1.data.make_initializable_iterator(dataset_test)\n",
    "    xte, yte = iterator_test.get_next()\n",
    "\n",
    "    with tf.device(\"/gpu:0\"):\n",
    "        # Layers training\n",
    "        w_h1_tr = tf.Variable(tf.glorot_uniform_initializer()((nb_features, nb_node_layer1)), name = \"w_h1_tr\")\n",
    "        mat_h1_tr = tf.matmul(xtr, w_h1_tr)\n",
    "        b_h1_tr = tf.Variable(tf.zeros(nb_node_layer1), name=\"b_h1_tr\")\n",
    "        out_h1_tr = tf.nn.relu(tf.add(mat_h1_tr, b_h1_tr))\n",
    "\n",
    "        w_h2_tr = tf.Variable(tf.glorot_uniform_initializer()((nb_node_layer1, nb_node_layer2)), name = \"w_h2_tr\")\n",
    "        mat_h2_tr = tf.matmul(out_h1_tr, w_h2_tr)\n",
    "        b_h2_tr = tf.Variable(tf.zeros(nb_node_layer2), name=\"b_h2_tr\")\n",
    "        out_h2_tr = tf.nn.relu(tf.add(mat_h2_tr, b_h2_tr))\n",
    "\n",
    "        w_final_tr = tf.Variable(tf.glorot_uniform_initializer()((nb_node_layer2, 1)), name = \"w_final_tr\")\n",
    "        outputs_tr =  tf.reshape(tf.matmul(out_h2_tr, w_final_tr), shape=[batch_size])\n",
    "        ytr = tf.reshape(ytr, [batch_size])\n",
    "\n",
    "        # Layers test\n",
    "        mat_h1_te = tf.matmul(xte, w_h1_tr)\n",
    "        out_h1_te = tf.nn.relu(tf.add(mat_h1_te, b_h1_tr))\n",
    "\n",
    "        mat_h2_te = tf.matmul(out_h1_te, w_h2_tr)\n",
    "        out_h2_te = tf.nn.relu(tf.add(mat_h2_te, b_h2_tr))\n",
    "\n",
    "        outputs_te =  tf.reshape(tf.matmul(out_h2_te, w_final_tr), shape=[batch_size])\n",
    "        yte = tf.reshape(yte, [batch_size])\n",
    "\n",
    "        # Cost => MAPE\n",
    "        train_cost = tf.keras.losses.MAPE(ytr, outputs_tr)\n",
    "        test_cost = tf.keras.losses.MAPE(yte, outputs_te)\n",
    "\n",
    "        # Convergence function\n",
    "        train_step = tf.train.AdamOptimizer(learning_rate=1).minimize(train_cost)\n",
    "\n",
    "        # train step with a lower learning rate => gain few % at the end\n",
    "        tiny_train_step = tf.train.AdamOptimizer(learning_rate=0.01).minimize(train_cost)\n",
    "\n",
    "        # allocate memory for tensors\n",
    "        init = tf.global_variables_initializer()\n",
    "\n",
    "    with tf.Session() as sess:\n",
    "        sess.run(init)\n",
    "        for j in range(nb_epochs):\n",
    "            if j < 20:\n",
    "                sess.run(iterator_train.initializer)\n",
    "                for i in range(nb_batch_train):\n",
    "                    val = sess.run(train_step)\n",
    "                #print(\"Cout entrainement epoch n°\", j+1, \":\",  sess.run(train_cost))\n",
    "            else:\n",
    "                sess.run(iterator_train.initializer)\n",
    "                for i in range(nb_batch_train):\n",
    "                    val = sess.run(tiny_train_step)\n",
    "                #print(\"Cout entrainement epoch n°\", j+1, \":\",  sess.run(train_cost))\n",
    "        sess.run(iterator_train.initializer)\n",
    "        mape = 0\n",
    "        for i in range(nb_batch_train):\n",
    "            mape+=sess.run(train_cost)\n",
    "        #print(\"Cout entrainement final =\", mape/nb_batch_train)\n",
    "        mape = 0\n",
    "        sess.run(iterator_test.initializer)\n",
    "        for i in range(nb_batch_test):\n",
    "            mape+=sess.run(test_cost)\n",
    "        res.append(mape/nb_batch_test)\n",
    "print(\"With :\", np.mean(res))"
   ]
  },
  {
   "cell_type": "markdown",
   "metadata": {},
   "source": [
    "## Without"
   ]
  },
  {
   "cell_type": "code",
   "execution_count": 8,
   "metadata": {},
   "outputs": [],
   "source": [
    "features = tuxml.load_dataset()\n",
    "selection = pd.read_csv(\"feature_net.csv\", index_col = 0, skiprows = 1, names = ['feat'])['feat']\n",
    "selection[len(selection)] = 'vmlinux'\n",
    "features = features[selection].replace([2,-1],0)"
   ]
  },
  {
   "cell_type": "code",
   "execution_count": 9,
   "metadata": {},
   "outputs": [],
   "source": [
    "n = 65500\n",
    "sizes = np.array(features[0:n]['vmlinux'])\n",
    "x_train, x_test, y_train, y_test = train_test_split(features.drop('vmlinux', axis=1)[0:n], sizes, test_size = 0.2)\n",
    "\n",
    "nbCol = len(features.columns)\n",
    "\n",
    "x_train = np.array(x_train, dtype = np.float32)\n",
    "x_test =  np.array(x_test, dtype = np.float32)\n",
    "\n",
    "y_train = np.array(y_train, dtype = np.float32)\n",
    "y_test = np.array(y_test, dtype = np.float32)"
   ]
  },
  {
   "cell_type": "code",
   "execution_count": 10,
   "metadata": {},
   "outputs": [
    {
     "name": "stdout",
     "output_type": "stream",
     "text": [
      "Without : 6.210023446847464\n"
     ]
    }
   ],
   "source": [
    "nb_features = x_train.shape[1]\n",
    "batch_size = 100\n",
    "nb_epochs = 40\n",
    "nb_batch_train = int(len(x_train)/batch_size)-1\n",
    "nb_batch_test = int(len(x_test)/batch_size)\n",
    "nb_node_layer1 = 200\n",
    "nb_node_layer2 = 100\n",
    "\n",
    "res = []\n",
    "\n",
    "for i in range(10):\n",
    "    # slice the datasets => feed_dict was very slow, so I switch to an iterator solution\n",
    "    dataset_train = tf.data.Dataset.from_tensor_slices((x_train, y_train)).batch(batch_size)\n",
    "    iterator_train = tf.compat.v1.data.make_initializable_iterator(dataset_train)\n",
    "    xtr, ytr = iterator_train.get_next()\n",
    "\n",
    "    dataset_test = tf.data.Dataset.from_tensor_slices((x_test, y_test)).batch(batch_size)\n",
    "    iterator_test = tf.compat.v1.data.make_initializable_iterator(dataset_test)\n",
    "    xte, yte = iterator_test.get_next()\n",
    "\n",
    "    with tf.device(\"/gpu:0\"):\n",
    "        # Layers training\n",
    "        w_h1_tr = tf.Variable(tf.glorot_uniform_initializer()((nb_features, nb_node_layer1)), name = \"w_h1_tr\")\n",
    "        mat_h1_tr = tf.matmul(xtr, w_h1_tr)\n",
    "        b_h1_tr = tf.Variable(tf.zeros(nb_node_layer1), name=\"b_h1_tr\")\n",
    "        out_h1_tr = tf.nn.relu(tf.add(mat_h1_tr, b_h1_tr))\n",
    "\n",
    "        w_h2_tr = tf.Variable(tf.glorot_uniform_initializer()((nb_node_layer1, nb_node_layer2)), name = \"w_h2_tr\")\n",
    "        mat_h2_tr = tf.matmul(out_h1_tr, w_h2_tr)\n",
    "        b_h2_tr = tf.Variable(tf.zeros(nb_node_layer2), name=\"b_h2_tr\")\n",
    "        out_h2_tr = tf.nn.relu(tf.add(mat_h2_tr, b_h2_tr))\n",
    "\n",
    "        w_final_tr = tf.Variable(tf.glorot_uniform_initializer()((nb_node_layer2, 1)), name = \"w_final_tr\")\n",
    "        outputs_tr =  tf.reshape(tf.matmul(out_h2_tr, w_final_tr), shape=[batch_size])\n",
    "        ytr = tf.reshape(ytr, [batch_size])\n",
    "\n",
    "        # Layers test\n",
    "        mat_h1_te = tf.matmul(xte, w_h1_tr)\n",
    "        out_h1_te = tf.nn.relu(tf.add(mat_h1_te, b_h1_tr))\n",
    "\n",
    "        mat_h2_te = tf.matmul(out_h1_te, w_h2_tr)\n",
    "        out_h2_te = tf.nn.relu(tf.add(mat_h2_te, b_h2_tr))\n",
    "\n",
    "        outputs_te =  tf.reshape(tf.matmul(out_h2_te, w_final_tr), shape=[batch_size])\n",
    "        yte = tf.reshape(yte, [batch_size])\n",
    "\n",
    "        # Cost => MAPE\n",
    "        train_cost = tf.keras.losses.MAPE(ytr, outputs_tr)\n",
    "        test_cost = tf.keras.losses.MAPE(yte, outputs_te)\n",
    "\n",
    "        # Convergence function\n",
    "        train_step = tf.train.AdamOptimizer(learning_rate=1).minimize(train_cost)\n",
    "\n",
    "        # train step with a lower learning rate => gain few % at the end\n",
    "        tiny_train_step = tf.train.AdamOptimizer(learning_rate=0.01).minimize(train_cost)\n",
    "\n",
    "        # allocate memory for tensors\n",
    "        init = tf.global_variables_initializer()\n",
    "\n",
    "    with tf.Session() as sess:\n",
    "        sess.run(init)\n",
    "        for j in range(nb_epochs):\n",
    "            if j < 20:\n",
    "                sess.run(iterator_train.initializer)\n",
    "                for i in range(nb_batch_train):\n",
    "                    val = sess.run(train_step)\n",
    "                #print(\"Cout entrainement epoch n°\", j+1, \":\",  sess.run(train_cost))\n",
    "            else:\n",
    "                sess.run(iterator_train.initializer)\n",
    "                for i in range(nb_batch_train):\n",
    "                    val = sess.run(tiny_train_step)\n",
    "                #print(\"Cout entrainement epoch n°\", j+1, \":\",  sess.run(train_cost))\n",
    "        sess.run(iterator_train.initializer)\n",
    "        mape = 0\n",
    "        for i in range(nb_batch_train):\n",
    "            mape+=sess.run(train_cost)\n",
    "        #print(\"Cout entrainement final =\", mape/nb_batch_train)\n",
    "        mape = 0\n",
    "        sess.run(iterator_test.initializer)\n",
    "        for i in range(nb_batch_test):\n",
    "            mape+=sess.run(test_cost)\n",
    "        res.append(mape/nb_batch_test)\n",
    "print(\"Without :\", np.mean(res))"
   ]
  },
  {
   "cell_type": "code",
   "execution_count": null,
   "metadata": {},
   "outputs": [],
   "source": []
  }
 ],
 "metadata": {
  "kernelspec": {
   "display_name": "Python 3",
   "language": "python",
   "name": "python3"
  },
  "language_info": {
   "codemirror_mode": {
    "name": "ipython",
    "version": 3
   },
   "file_extension": ".py",
   "mimetype": "text/x-python",
   "name": "python",
   "nbconvert_exporter": "python",
   "pygments_lexer": "ipython3",
   "version": "3.7.3"
  }
 },
 "nbformat": 4,
 "nbformat_minor": 2
}
