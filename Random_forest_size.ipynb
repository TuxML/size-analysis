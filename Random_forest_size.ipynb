{
 "cells": [
  {
   "cell_type": "code",
   "execution_count": 1,
   "metadata": {},
   "outputs": [],
   "source": [
    "import pandas as pd\n",
    "import json\n",
    "\n",
    "with open(\"../compilation-analysis/option_columns.json\",\"r\") as f:\n",
    "    option_columns = json.load(f)\n",
    "\n",
    "#Find the dataset\n",
    "df = pd.read_csv(\"../tuxml-datasets/dataset_encoded_size.csv\", dtype={k:\"int8\" for k in option_columns})\n",
    "\n",
    "df.query(\"cid >= 30000\", inplace=True)\n",
    "df.fillna(-1, inplace=True)\n",
    "df.query(\"kernel_size >= 0\", inplace=True)"
   ]
  },
  {
   "cell_type": "code",
   "execution_count": 6,
   "metadata": {},
   "outputs": [],
   "source": [
    "from sklearn.model_selection import train_test_split\n",
    "from sklearn import ensemble\n",
    "\n",
    "def runML_RF(hyperparams, with_tree=False):\n",
    "    X_train, X_test, y_train, y_test = train_test_split(df.drop(columns=\"cid\").drop(columns=\"kernel_size\"), df[\"kernel_size\"], test_size=0.1)  \n",
    "    reg = ensemble.RandomForestClassifier(**hyperparams)\n",
    "    reg.fit(X_train, y_train)\n",
    "    y_pred = reg.predict(X_test)\n",
    "    dfErrors = pd.DataFrame({'Actual':y_test, 'Predicted':y_pred, \"error\":(y_pred - y_test).abs(), \"% error\":((y_pred - y_test)/y_test).abs()*100})\n",
    "    if with_tree:\n",
    "        return dfErrors[\"% error\"].describe(), reg\n",
    "    return dfErrors[\"% error\"].describe()\n"
   ]
  },
  {
   "cell_type": "code",
   "execution_count": 7,
   "metadata": {},
   "outputs": [
    {
     "data": {
      "text/plain": [
       "count    9248.000000\n",
       "mean       77.800149\n",
       "std       166.695037\n",
       "min         0.015446\n",
       "25%        16.505824\n",
       "50%        37.479969\n",
       "75%        71.754307\n",
       "max      3451.241541\n",
       "Name: % error, dtype: float64"
      ]
     },
     "execution_count": 7,
     "metadata": {},
     "output_type": "execute_result"
    }
   ],
   "source": [
    "\n",
    "hyperparams = {\n",
    "    \"max_depth\":18,\n",
    "    \"n_estimators\":50,\n",
    "    \n",
    "}\n",
    "res = runML_RF(hyperparams)\n",
    "res"
   ]
  },
  {
   "cell_type": "code",
   "execution_count": null,
   "metadata": {},
   "outputs": [],
   "source": []
  }
 ],
 "metadata": {
  "kernelspec": {
   "display_name": "Python 3",
   "language": "python",
   "name": "python3"
  },
  "language_info": {
   "codemirror_mode": {
    "name": "ipython",
    "version": 3
   },
   "file_extension": ".py",
   "mimetype": "text/x-python",
   "name": "python",
   "nbconvert_exporter": "python",
   "pygments_lexer": "ipython3",
   "version": "3.6.8"
  }
 },
 "nbformat": 4,
 "nbformat_minor": 2
}
