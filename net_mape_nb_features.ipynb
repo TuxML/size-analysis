{
 "cells": [
  {
   "cell_type": "markdown",
   "metadata": {},
   "source": [
    "### Goal : Plot MAPE*nb_features\n",
    "\n",
    "Conditions :\n",
    "\n",
    "- feature_importance from random forest\n",
    "- 90% training, 10% test\n",
    "- best hyper-parameters\n",
    "\n",
    "--"
   ]
  },
  {
   "cell_type": "markdown",
   "metadata": {},
   "source": [
    "#### Imports"
   ]
  },
  {
   "cell_type": "code",
   "execution_count": 1,
   "metadata": {},
   "outputs": [],
   "source": [
    "import tuxml\n",
    "import numpy as np\n",
    "import pandas as pd\n",
    "import tensorflow as tf\n",
    "from sklearn.model_selection import train_test_split\n",
    "import matplotlib.pyplot as plt"
   ]
  },
  {
   "cell_type": "code",
   "execution_count": 2,
   "metadata": {},
   "outputs": [],
   "source": [
    "features = tuxml.load_dataset()\n",
    "\n",
    "# normalization of the nb yes/no/module counters\n",
    "col = features.columns\n",
    "# I assumed 12611 was (around) the number of real options we can change to compile the linux kernel => cf option_columns.json\n",
    "nb_features = 12611\n",
    "to_normalize = ['nbyes', 'nbno', 'nbmodule', 'nbyesmodule']\n",
    "for feat in to_normalize:\n",
    "    if feat in col:\n",
    "        features[feat] = features[feat]/nb_features\n",
    "\n",
    "df_selection = pd.read_csv('feature_importanceRF.csv', names = ['features', 'imp'], skiprows = 0)\n",
    "selection = df_selection['features']\n",
    "imp = df_selection['imp']\n",
    "sorted_imp = sorted(imp, reverse = True)\n",
    "\n",
    "def choose_features(nb_features):\n",
    "    \n",
    "    threshold_imp = sorted_imp[nb_features-1]\n",
    "\n",
    "    final = selection[imp>threshold_imp]\n",
    "    final[len(final)] = 'vmlinux'\n",
    "    print(len(final))\n",
    "    # selection\n",
    "    features2 = features[final]\n",
    "    \n",
    "    return features2.replace([2,-1],0)"
   ]
  },
  {
   "cell_type": "markdown",
   "metadata": {},
   "source": [
    "#### Test_functions\n",
    "\n",
    "\n",
    "### Compute_features(p) gives the couple (MAPE train, MAPE test) returned  by the neural network fed with the p most important features (random forest)"
   ]
  },
  {
   "cell_type": "code",
   "execution_count": 3,
   "metadata": {},
   "outputs": [],
   "source": [
    "def compute_standard(features):\n",
    "    n = 65000\n",
    "    sizes = np.array(features[0:n]['vmlinux'])\n",
    "    x_train, x_test, y_train, y_test = train_test_split(features.drop('vmlinux', axis=1)[0:n], sizes, test_size = 0.1)\n",
    "\n",
    "    nbCol = len(features.columns)\n",
    "\n",
    "    x_train = np.array(x_train, dtype = np.float32)\n",
    "    x_test =  np.array(x_test, dtype = np.float32)\n",
    "\n",
    "    y_train = np.array(y_train, dtype = np.float32)\n",
    "    y_test = np.array(y_test, dtype = np.float32)\n",
    "\n",
    "    nb_features = x_train.shape[1]\n",
    "    batch_size = 50\n",
    "    nb_epochs = 30\n",
    "    nb_batch_train = int(len(x_train)/batch_size)-1\n",
    "    nb_batch_test = int(len(x_test)/batch_size)\n",
    "    nb_node_layer1 = 200\n",
    "    nb_node_layer2 = 300\n",
    "\n",
    "    # slice the datasets => feed_dict was very slow, so I choose an iterator solution\n",
    "    dataset_train = tf.data.Dataset.from_tensor_slices((x_train, y_train)).batch(batch_size)\n",
    "    iterator_train = tf.compat.v1.data.make_initializable_iterator(dataset_train)\n",
    "    xtr, ytr = iterator_train.get_next()\n",
    "\n",
    "    dataset_test = tf.data.Dataset.from_tensor_slices((x_test, y_test)).batch(batch_size)\n",
    "    iterator_test = tf.compat.v1.data.make_initializable_iterator(dataset_test)\n",
    "    xte, yte = iterator_test.get_next()\n",
    "\n",
    "    with tf.device(\"/gpu:0\"):\n",
    "        # Layers training\n",
    "        w_h1_tr = tf.Variable(tf.glorot_uniform_initializer()((nb_features, nb_node_layer1)), name = \"w_h1_tr\")\n",
    "        mat_h1_tr = tf.matmul(xtr, w_h1_tr)\n",
    "        b_h1_tr = tf.Variable(tf.zeros(nb_node_layer1), name=\"b_h1_tr\")\n",
    "        out_h1_tr = tf.nn.relu(tf.add(mat_h1_tr, b_h1_tr))\n",
    "\n",
    "        w_h2_tr = tf.Variable(tf.glorot_uniform_initializer()((nb_node_layer1, nb_node_layer2)), name = \"w_h2_tr\")\n",
    "        mat_h2_tr = tf.matmul(out_h1_tr, w_h2_tr)\n",
    "        b_h2_tr = tf.Variable(tf.zeros(nb_node_layer2), name=\"b_h2_tr\")\n",
    "        out_h2_tr = tf.nn.relu(tf.add(mat_h2_tr, b_h2_tr))\n",
    "\n",
    "        w_final_tr = tf.Variable(tf.glorot_uniform_initializer()((nb_node_layer2, 1)), name = \"w_final_tr\")\n",
    "        outputs_tr =  tf.reshape(tf.matmul(out_h2_tr, w_final_tr), shape=[batch_size])\n",
    "        ytr = tf.reshape(ytr, [batch_size])\n",
    "\n",
    "        # Layers test\n",
    "        mat_h1_te = tf.matmul(xte, w_h1_tr)\n",
    "        out_h1_te = tf.nn.relu(tf.add(mat_h1_te, b_h1_tr))\n",
    "\n",
    "        mat_h2_te = tf.matmul(out_h1_te, w_h2_tr)\n",
    "        out_h2_te = tf.nn.relu(tf.add(mat_h2_te, b_h2_tr))\n",
    "\n",
    "        outputs_te =  tf.reshape(tf.matmul(out_h2_te, w_final_tr), shape=[batch_size])\n",
    "        yte = tf.reshape(yte, [batch_size])\n",
    "\n",
    "        # Cost => MAPE\n",
    "        train_cost = tf.keras.losses.MAPE(ytr, outputs_tr)\n",
    "        test_cost = tf.keras.losses.MAPE(yte, outputs_te)\n",
    "\n",
    "        # Convergence function => AdamOptimizer\n",
    "        train_step = tf.train.AdamOptimizer(learning_rate=0.5).minimize(train_cost)\n",
    "\n",
    "        # train step with a lower learning rate => gain few % at the end\n",
    "        tiny_train_step = tf.train.AdamOptimizer(learning_rate=0.025).minimize(train_cost)\n",
    "\n",
    "        # allocate memory for tensors\n",
    "        init = tf.global_variables_initializer()\n",
    "\n",
    "    with tf.Session() as sess:\n",
    "        sess.run(init)\n",
    "        for j in range(nb_epochs):\n",
    "            if j < 20:\n",
    "                sess.run(iterator_train.initializer)\n",
    "                for i in range(nb_batch_train):\n",
    "                    val = sess.run(train_step)\n",
    "                #print(\"Cout entrainement epoch n°\", j+1, \":\",  sess.run(train_cost))\n",
    "            else:\n",
    "                sess.run(iterator_train.initializer)\n",
    "                for i in range(nb_batch_train):\n",
    "                    val = sess.run(tiny_train_step)\n",
    "                #print(\"Cout entrainement epoch n°\", j+1, \":\",  sess.run(train_cost))\n",
    "        sess.run(iterator_train.initializer)\n",
    "        mape = 0\n",
    "        for i in range(nb_batch_train):\n",
    "            mape+=sess.run(train_cost)\n",
    "        mape_train = mape/nb_batch_train\n",
    "        sess.run(iterator_test.initializer)\n",
    "        mape = 0\n",
    "        for i in range(nb_batch_test):\n",
    "            mape+=sess.run(test_cost)\n",
    "        mape_test = mape/nb_batch_test\n",
    "        return (mape_train, mape_test)"
   ]
  },
  {
   "cell_type": "markdown",
   "metadata": {},
   "source": [
    "### All the features are not supported (it creates a tensor bigger than 2 Gigabytes, and crashes the kernel), but by reducing the number of the first layer to 200 nodes, we can compute until 8000 features."
   ]
  },
  {
   "cell_type": "code",
   "execution_count": 4,
   "metadata": {},
   "outputs": [
    {
     "data": {
      "text/plain": [
       "9239"
      ]
     },
     "execution_count": 4,
     "metadata": {},
     "output_type": "execute_result"
    }
   ],
   "source": [
    "len(df_selection)"
   ]
  },
  {
   "cell_type": "markdown",
   "metadata": {},
   "source": [
    "Results"
   ]
  },
  {
   "cell_type": "code",
   "execution_count": 5,
   "metadata": {},
   "outputs": [
    {
     "name": "stdout",
     "output_type": "stream",
     "text": [
      "50\n",
      "WARNING:tensorflow:From C:\\Users\\llesoil\\Documents\\Anaconda3\\envs\\tensor_gpu\\lib\\site-packages\\tensorflow\\python\\data\\ops\\dataset_ops.py:1419: colocate_with (from tensorflow.python.framework.ops) is deprecated and will be removed in a future version.\n",
      "Instructions for updating:\n",
      "Colocations handled automatically by placer.\n",
      "WARNING:tensorflow:From C:\\Users\\llesoil\\Documents\\Anaconda3\\envs\\tensor_gpu\\lib\\site-packages\\tensorflow\\python\\ops\\math_ops.py:3066: to_int32 (from tensorflow.python.ops.math_ops) is deprecated and will be removed in a future version.\n",
      "Instructions for updating:\n",
      "Use tf.cast instead.\n",
      "50 (7.479199070926402, 7.966091020290668)\n",
      "100\n",
      "100 (6.362605203003635, 7.531402166073139)\n",
      "250\n",
      "250 (4.500358184246654, 6.166484997822688)\n",
      "500\n",
      "500 (3.87748114567113, 5.995050588020912)\n",
      "750\n",
      "750 (3.820579105610517, 6.031110539803138)\n",
      "1000\n",
      "1000 (3.723123487394217, 6.413761857839731)\n",
      "1200\n",
      "1200 (3.736771368592901, 6.631464187915508)\n",
      "1500\n",
      "1500 (4.0686002548583255, 7.396629575582651)\n",
      "2000\n",
      "2000 (4.167195938712415, 7.861370420455932)\n",
      "2500\n",
      "2500 (4.216191209208976, 7.952859753828783)\n",
      "3000\n",
      "3000 (4.419150530527146, 8.46539215674767)\n",
      "4000\n",
      "4000 (4.32036808150971, 8.760453568972075)\n",
      "5000\n",
      "5000 (4.253250440641588, 9.530968284606933)\n",
      "6000\n",
      "6000 (4.929930310457358, 9.787896585464477)\n",
      "7000\n",
      "7000 (4.68738895282468, 9.974623096906221)\n",
      "8000\n",
      "8000 (5.0598881624008065, 10.888339453477126)\n",
      "8389\n",
      "9239 (5.126091190848828, 10.496802975581243)\n"
     ]
    },
    {
     "data": {
      "text/plain": [
       "{50: (7.479199070926402, 7.966091020290668),\n",
       " 100: (6.362605203003635, 7.531402166073139),\n",
       " 250: (4.500358184246654, 6.166484997822688),\n",
       " 500: (3.87748114567113, 5.995050588020912),\n",
       " 750: (3.820579105610517, 6.031110539803138),\n",
       " 1000: (3.723123487394217, 6.413761857839731),\n",
       " 1200: (3.736771368592901, 6.631464187915508),\n",
       " 1500: (4.0686002548583255, 7.396629575582651),\n",
       " 2000: (4.167195938712415, 7.861370420455932),\n",
       " 2500: (4.216191209208976, 7.952859753828783),\n",
       " 3000: (4.419150530527146, 8.46539215674767),\n",
       " 4000: (4.32036808150971, 8.760453568972075),\n",
       " 5000: (4.253250440641588, 9.530968284606933),\n",
       " 6000: (4.929930310457358, 9.787896585464477),\n",
       " 7000: (4.68738895282468, 9.974623096906221),\n",
       " 8000: (5.0598881624008065, 10.888339453477126),\n",
       " 9239: (5.126091190848828, 10.496802975581243)}"
      ]
     },
     "execution_count": 5,
     "metadata": {},
     "output_type": "execute_result"
    }
   ],
   "source": [
    "nb_features = [50,100,250,500,750,1000,1200,1500,2000,2500,3000,4000,5000,6000,7000,8000, len(df_selection)]\n",
    "\n",
    "res = dict()\n",
    "\n",
    "for nb_f in nb_features:\n",
    "    res[nb_f] = compute_standard(choose_features(nb_f))\n",
    "    print(nb_f, res[nb_f])\n",
    "res"
   ]
  },
  {
   "cell_type": "code",
   "execution_count": 7,
   "metadata": {},
   "outputs": [
    {
     "data": {
      "text/plain": [
       "{50: (7.479199070926402, 7.966091020290668),\n",
       " 100: (6.362605203003635, 7.531402166073139),\n",
       " 250: (4.500358184246654, 6.166484997822688),\n",
       " 500: (3.87748114567113, 5.995050588020912),\n",
       " 750: (3.820579105610517, 6.031110539803138),\n",
       " 1000: (3.723123487394217, 6.413761857839731),\n",
       " 1200: (3.736771368592901, 6.631464187915508),\n",
       " 1500: (4.0686002548583255, 7.396629575582651),\n",
       " 2000: (4.167195938712415, 7.861370420455932),\n",
       " 2500: (4.216191209208976, 7.952859753828783),\n",
       " 3000: (4.419150530527146, 8.46539215674767),\n",
       " 4000: (4.32036808150971, 8.760453568972075),\n",
       " 5000: (4.253250440641588, 9.530968284606933),\n",
       " 6000: (4.929930310457358, 9.787896585464477),\n",
       " 7000: (4.68738895282468, 9.974623096906221),\n",
       " 8000: (5.0598881624008065, 10.888339453477126),\n",
       " 9239: (5.126091190848828, 10.496802975581243)}"
      ]
     },
     "execution_count": 7,
     "metadata": {},
     "output_type": "execute_result"
    }
   ],
   "source": [
    "res"
   ]
  },
  {
   "cell_type": "code",
   "execution_count": 20,
   "metadata": {},
   "outputs": [
    {
     "data": {
      "text/html": [
       "<div>\n",
       "<style scoped>\n",
       "    .dataframe tbody tr th:only-of-type {\n",
       "        vertical-align: middle;\n",
       "    }\n",
       "\n",
       "    .dataframe tbody tr th {\n",
       "        vertical-align: top;\n",
       "    }\n",
       "\n",
       "    .dataframe thead th {\n",
       "        text-align: right;\n",
       "    }\n",
       "</style>\n",
       "<table border=\"1\" class=\"dataframe\">\n",
       "  <thead>\n",
       "    <tr style=\"text-align: right;\">\n",
       "      <th></th>\n",
       "      <th>MAPE train</th>\n",
       "      <th>MAPE test</th>\n",
       "    </tr>\n",
       "  </thead>\n",
       "  <tbody>\n",
       "    <tr>\n",
       "      <th>50</th>\n",
       "      <td>7.479199</td>\n",
       "      <td>7.966091</td>\n",
       "    </tr>\n",
       "    <tr>\n",
       "      <th>100</th>\n",
       "      <td>6.362605</td>\n",
       "      <td>7.531402</td>\n",
       "    </tr>\n",
       "    <tr>\n",
       "      <th>250</th>\n",
       "      <td>4.500358</td>\n",
       "      <td>6.166485</td>\n",
       "    </tr>\n",
       "    <tr>\n",
       "      <th>500</th>\n",
       "      <td>3.877481</td>\n",
       "      <td>5.995051</td>\n",
       "    </tr>\n",
       "    <tr>\n",
       "      <th>750</th>\n",
       "      <td>3.820579</td>\n",
       "      <td>6.031111</td>\n",
       "    </tr>\n",
       "    <tr>\n",
       "      <th>1000</th>\n",
       "      <td>3.723123</td>\n",
       "      <td>6.413762</td>\n",
       "    </tr>\n",
       "    <tr>\n",
       "      <th>1200</th>\n",
       "      <td>3.736771</td>\n",
       "      <td>6.631464</td>\n",
       "    </tr>\n",
       "    <tr>\n",
       "      <th>1500</th>\n",
       "      <td>4.068600</td>\n",
       "      <td>7.396630</td>\n",
       "    </tr>\n",
       "    <tr>\n",
       "      <th>2000</th>\n",
       "      <td>4.167196</td>\n",
       "      <td>7.861370</td>\n",
       "    </tr>\n",
       "    <tr>\n",
       "      <th>2500</th>\n",
       "      <td>4.216191</td>\n",
       "      <td>7.952860</td>\n",
       "    </tr>\n",
       "    <tr>\n",
       "      <th>3000</th>\n",
       "      <td>4.419151</td>\n",
       "      <td>8.465392</td>\n",
       "    </tr>\n",
       "    <tr>\n",
       "      <th>4000</th>\n",
       "      <td>4.320368</td>\n",
       "      <td>8.760454</td>\n",
       "    </tr>\n",
       "    <tr>\n",
       "      <th>5000</th>\n",
       "      <td>4.253250</td>\n",
       "      <td>9.530968</td>\n",
       "    </tr>\n",
       "    <tr>\n",
       "      <th>6000</th>\n",
       "      <td>4.929930</td>\n",
       "      <td>9.787897</td>\n",
       "    </tr>\n",
       "    <tr>\n",
       "      <th>7000</th>\n",
       "      <td>4.687389</td>\n",
       "      <td>9.974623</td>\n",
       "    </tr>\n",
       "    <tr>\n",
       "      <th>8000</th>\n",
       "      <td>5.059888</td>\n",
       "      <td>10.888339</td>\n",
       "    </tr>\n",
       "    <tr>\n",
       "      <th>8389</th>\n",
       "      <td>5.126091</td>\n",
       "      <td>10.496803</td>\n",
       "    </tr>\n",
       "  </tbody>\n",
       "</table>\n",
       "</div>"
      ],
      "text/plain": [
       "      MAPE train  MAPE test\n",
       "50      7.479199   7.966091\n",
       "100     6.362605   7.531402\n",
       "250     4.500358   6.166485\n",
       "500     3.877481   5.995051\n",
       "750     3.820579   6.031111\n",
       "1000    3.723123   6.413762\n",
       "1200    3.736771   6.631464\n",
       "1500    4.068600   7.396630\n",
       "2000    4.167196   7.861370\n",
       "2500    4.216191   7.952860\n",
       "3000    4.419151   8.465392\n",
       "4000    4.320368   8.760454\n",
       "5000    4.253250   9.530968\n",
       "6000    4.929930   9.787897\n",
       "7000    4.687389   9.974623\n",
       "8000    5.059888  10.888339\n",
       "8389    5.126091  10.496803"
      ]
     },
     "execution_count": 20,
     "metadata": {},
     "output_type": "execute_result"
    }
   ],
   "source": [
    "df = pd.DataFrame(np.transpose(pd.DataFrame(res)))\n",
    "df.columns =[\"MAPE train\", \"MAPE test\"]\n",
    "ind_df = np.array(df.index)\n",
    "# 8389 was the real number of features for the last launch\n",
    "ind_df[len(ind_df)-1] = 8389\n",
    "df.index = ind_df\n",
    "df"
   ]
  },
  {
   "cell_type": "code",
   "execution_count": 22,
   "metadata": {},
   "outputs": [
    {
     "data": {
      "image/png": "[encoded data removed]",
      "text/plain": [
       "<Figure size 1080x720 with 1 Axes>"
      ]
     },
     "metadata": {
      "needs_background": "light"
     },
     "output_type": "display_data"
    }
   ],
   "source": [
    "plt.figure(figsize =(15,10))\n",
    "plt.scatter(ind_df, df[\"MAPE train\"], color =\"blue\", marker = \"s\")\n",
    "plt.plot(ind_df, df[\"MAPE train\"], color =\"blue\")\n",
    "plt.scatter(ind_df, df[\"MAPE test\"], color =\"red\", marker = \"s\")\n",
    "plt.plot(ind_df, df[\"MAPE test\"], color =\"red\")\n",
    "plt.xlabel(\"Number of features in input\")\n",
    "plt.ylabel(\"MAPE (Mean Average Percentage Error)\")\n",
    "plt.savefig(\"net_mape_nb_features.png\")\n",
    "plt.show()"
   ]
  },
  {
   "cell_type": "markdown",
   "metadata": {},
   "source": [
    "train = blue,\n",
    "test = red"
   ]
  },
  {
   "cell_type": "code",
   "execution_count": null,
   "metadata": {},
   "outputs": [],
   "source": []
  }
 ],
 "metadata": {
  "kernelspec": {
   "display_name": "Python 3",
   "language": "python",
   "name": "python3"
  },
  "language_info": {
   "codemirror_mode": {
    "name": "ipython",
    "version": 3
   },
   "file_extension": ".py",
   "mimetype": "text/x-python",
   "name": "python",
   "nbconvert_exporter": "python",
   "pygments_lexer": "ipython3",
   "version": "3.7.3"
  }
 },
 "nbformat": 4,
 "nbformat_minor": 2
}
