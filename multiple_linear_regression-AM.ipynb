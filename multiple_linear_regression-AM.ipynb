{
 "cells": [
  {
   "cell_type": "code",
   "execution_count": null,
   "metadata": {},
   "outputs": [],
   "source": [
    "import tuxml\n",
    "import pandas as pd \n",
    "\n",
    "df = tuxml.load_dataset()\n",
    "df.replace(2, 0, inplace=True)"
   ]
  },
  {
   "cell_type": "code",
   "execution_count": null,
   "metadata": {},
   "outputs": [],
   "source": [
    "df.sort_values(\"vmlinux\")[:5]"
   ]
  },
  {
   "cell_type": "code",
   "execution_count": null,
   "metadata": {},
   "outputs": [],
   "source": [
    "df_importance = pd.read_csv(\"feature_importanceRF.csv\", header=None)\n",
    "df_importance.rename(columns={0 : 'option', 1 : 'importance' }, inplace=True)\n",
    "# df_importance = df[df_importance[:100][\"Unnamed: 0\"].values]\n",
    "df_importance = df[df_importance[\"option\"].values] # [:100]\n",
    "df_importance.head()\n",
    "# df_importance"
   ]
  },
  {
   "cell_type": "code",
   "execution_count": null,
   "metadata": {},
   "outputs": [],
   "source": [
    "size_methods = [\"vmlinux\", \"GZIP-bzImage\", \"GZIP-vmlinux\", \"GZIP\", \"BZIP2-bzImage\", \n",
    "              \"BZIP2-vmlinux\", \"BZIP2\", \"LZMA-bzImage\", \"LZMA-vmlinux\", \"LZMA\", \"XZ-bzImage\", \"XZ-vmlinux\", \"XZ\", \n",
    "              \"LZO-bzImage\", \"LZO-vmlinux\", \"LZO\", \"LZ4-bzImage\", \"LZ4-vmlinux\", \"LZ4\"]\n"
   ]
  },
  {
   "cell_type": "code",
   "execution_count": null,
   "metadata": {},
   "outputs": [],
   "source": [
    "additional_ft = [\"nbyes\", \"nbno\", \"nbmodule\", \"nbyesmodule\"]\n",
    "# very ad-hoc, not consistent with feature importance\n",
    "# df.drop(columns=additional_ft, inplace=True) # should be a parameter of the experiment (whether or not we keep nbyes, etc.)"
   ]
  },
  {
   "cell_type": "code",
   "execution_count": null,
   "metadata": {},
   "outputs": [],
   "source": [
    "#learning a model by using linear regression\n",
    "import numpy as np\n",
    "from sklearn.linear_model import LinearRegression\n",
    "from sklearn.model_selection import train_test_split\n",
    "from sklearn import linear_model\n",
    "from sklearn.linear_model import ElasticNet\n",
    "\n",
    "def run_regressorML(reg, test_size, size_target, x_train, x_test):\n",
    "    assert(size_target in size_methods)\n",
    "    reg.fit(x_train, y_train)\n",
    "    y_pred = reg.predict(x_test)\n",
    "    #y_pred = reg.intercept_ + np.sum(reg.coef_ * x_test.values, axis=1)\n",
    "    dfErrors = pd.DataFrame({\"error\":(y_pred - y_test).abs(), \"% error\":((y_pred - y_test)/y_test).abs()*100})\n",
    "    return dfErrors[\"% error\"].describe()"
   ]
  },
  {
   "cell_type": "code",
   "execution_count": null,
   "metadata": {},
   "outputs": [],
   "source": [
    "def ft_importances(coef_, col):\n",
    "    importanceSeries = pd.Series(coef_, index=col.values)\n",
    "    return importanceSeries[importanceSeries != 0].abs().sort_values(ascending = False)"
   ]
  },
  {
   "cell_type": "code",
   "execution_count": null,
   "metadata": {},
   "outputs": [],
   "source": [
    "df_result  = pd.DataFrame(columns = ['algorithm_name', 'ft_dummyfication', 'origin_ft_selection', 'ft_selection', 'hyperparameters', 'size_target', 'additional_ft', 'test_size', 'coef_order', 'accuracy'])"
   ]
  },
  {
   "cell_type": "code",
   "execution_count": null,
   "metadata": {},
   "outputs": [],
   "source": [
    "from sklearn.model_selection import GridSearchCV\n",
    "from sklearn.linear_model import LinearRegression\n",
    "from sklearn.preprocessing import PolynomialFeatures\n",
    "from sklearn.linear_model import ElasticNet\n",
    "from sklearn import linear_model\n",
    "from sklearn import metrics\n",
    "\n",
    "target = \"vmlinux\"\n",
    "paramsLasso = {'alpha': [25,10,4,2,1.0,0.8,0.5,0.3,0.2,0.1,0.05,0.02,0.01],\n",
    "               'max_iter': [1, 5, 10, 100, 1000],}\n",
    "paramsRidge = {'alpha': [25,10,4,2,1.0,0.8,0.5,0.3,0.2,0.1,0.05,0.02,0.01]}\n",
    "paramsENet = {'alpha': [25,10,4,2,1.0,0.8,0.5,0.3,0.2,0.1,0.05,0.02,0.01],\n",
    "              'l1_ratio': [0.0, 0.5, 1.0, 0.1],\n",
    "              'max_iter': [1, 5, 10, 100, 1000],}\n",
    "\n",
    "for ft_dummyfication in [False]: # [False, True]:\n",
    "    if ft_dummyfication:\n",
    "        #Creating dummy variables in pandas\n",
    "        df = pd.get_dummies(df, columns=list(df.drop(columns=[\"cid\"]).drop(columns=size_methods).drop(columns=additional_ft).columns.values))\n",
    "        df_importance = pd.get_dummies(df_importance, columns=list(df_importance.drop(columns=[\"nbyes\", \"nbno\", \"nbyesmodule\"]).columns.values))\n",
    "        \n",
    "    ft_selection =  {'None': df.drop(columns=[\"cid\"]).drop(columns=size_methods).columns,\n",
    "                    # 'RandomForest': df_importance.columns[:100],\n",
    "                     # 'RandomForest200': df_importance.columns[:200],\n",
    "                     # 'RandomForest1000': df_importance.columns[:1000],\n",
    "                    }\n",
    "        \n",
    "    for origin_ft_selection in ft_selection:\n",
    "        print(origin_ft_selection)\n",
    "        # for size in [0.1,0.2,0.3,0.4,0.5,0.6,0.7,0.8,0.9]:\n",
    "        for size in [0.9]:\n",
    "            print(size)\n",
    "\n",
    "            x_train, x_test, y_train, y_test = train_test_split(df[ft_selection[origin_ft_selection]], df[target], test_size=size, random_state=42)  \n",
    "            # x_train, y_train = np.array(x_train.values), np.array(y_train.values)\n",
    "\n",
    "            model = {# 'LinearRegression': LinearRegression(),\n",
    "                    # 'Lasso': GridSearchCV(linear_model.Lasso(), param_grid=paramsLasso, cv=3).fit(x_train, y_train).best_estimator_,\n",
    "#                     'LassoCV': linear_model.LassoCV(cv=2).fit(x_train, y_train),                    \n",
    "                     # 'Ridge': GridSearchCV(linear_model.Ridge(), param_grid=paramsRidge, cv=3).fit(x_train, y_train).best_estimator_,\n",
    "                     # 'RidgeCV': linear_model.RidgeCV(cv=2).fit(x_train, y_train),  \n",
    "                    # 'ElasticNet': GridSearchCV(ElasticNet(), param_grid=paramsENet, scoring='r2', cv=3).fit(x_train, y_train).best_estimator_,\n",
    "                    'ElasticNetCV': linear_model.ElasticNetCV().fit(x_train, y_train),\n",
    "                   # 'PolynomialRegression': LinearRegression()\n",
    "                    }\n",
    "        \n",
    "            for key in model:\n",
    "                if (key == 'PolynomialRegression') and (origin_ft_selection == 'None'):\n",
    "                    print(\"It doesn't scale\")\n",
    "                else:\n",
    "                    if (key == 'PolynomialRegression'):\n",
    "                        #for 2 options we have: 𝑓(𝑥₁, 𝑥₂) = 𝑏₀ + 𝑏₁𝑥₁ + 𝑏₂𝑥₂ + 𝑏₃𝑥₁² + 𝑏₄𝑥₁𝑥₂ + 𝑏₅𝑥₂²\n",
    "                        pf = PolynomialFeatures(degree=2, include_bias=False)\n",
    "                        x_train_pf = pf.fit_transform(x_train)\n",
    "                        x_test_pf = pf.fit_transform(x_test)\n",
    "                        res_model = run_regressorML(model[key], test_size=size, size_target=target, x_train=x_train_pf, x_test=x_test_pf)\n",
    "                        # model[key].coef_ = model[key].coef_[:100]\n",
    "                        importanceSeries = pd.Series(model[key].coef_, index=pf.get_feature_names(x_train.columns))\n",
    "                        coef_order = importanceSeries[importanceSeries != 0].abs().sort_values(ascending = False)\n",
    "                    else:\n",
    "                        res_model = run_regressorML(model[key], test_size=size, size_target=target, x_train=x_train, x_test=x_test)\n",
    "                        coef_order = ft_importances(model[key].coef_, col=ft_selection[origin_ft_selection])\n",
    "                   \n",
    "                        \n",
    "                    df_result.loc[len(df_result)] = [key, ft_dummyfication, origin_ft_selection, ft_selection[origin_ft_selection], model[key], target, additional_ft, size, coef_order, res_model]\n",
    "\n",
    "df_result.to_csv(\"results.csv\", header=True)"
   ]
  },
  {
   "cell_type": "code",
   "execution_count": null,
   "metadata": {},
   "outputs": [],
   "source": [
    "#df_result['coef_order']"
   ]
  },
  {
   "cell_type": "code",
   "execution_count": null,
   "metadata": {},
   "outputs": [],
   "source": [
    "res = pd.read_csv('results.csv')\n",
    "res"
   ]
  },
  {
   "cell_type": "code",
   "execution_count": null,
   "metadata": {},
   "outputs": [],
   "source": [
    "# oblige to reparse \n",
    "coeffs = res.iloc[0]['coef_order']\n",
    "coef = pd.DataFrame(columns=['option', 'coefficient'])\n",
    "i = 0\n",
    "coeffs.splitlines()\n",
    "for coeff in coeffs.splitlines():\n",
    "    print(coeff)\n",
    "    optcoeff = [c for c in coeff.split(' ') if c is not '']\n",
    "    if len(optcoeff) == 1:\n",
    "        continue\n",
    "    elif len(optcoeff) == 3:\n",
    "        opt = optcoeff[0] + \" \" + optcoeff[1]\n",
    "        coeff = optcoeff[2]\n",
    "    else: # standard: one option, one coeff\n",
    "        opt = optcoeff[0]\n",
    "        coeff = optcoeff[1]\n",
    "    coef.loc[i] = (opt, coeff)\n",
    "    i = i + 1\n",
    "coef"
   ]
  },
  {
   "cell_type": "code",
   "execution_count": null,
   "metadata": {},
   "outputs": [],
   "source": [
    "# Boxplot\n",
    "import matplotlib.pyplot as plt\n",
    "import seaborn as sns\n",
    "import pandas as pd\n",
    "\n",
    "data = [order_lr, order_lasso, order_ridge, order_en]\n",
    "fig1, ax1 = plt.subplots()\n",
    "ax1.set_title('Coeficient of feature importance for all algorithms')\n",
    "ax1.boxplot(data)\n",
    "plt.show()"
   ]
  },
  {
   "cell_type": "code",
   "execution_count": null,
   "metadata": {},
   "outputs": [],
   "source": [
    "res.iloc[1]['hyperparameters']"
   ]
  },
  {
   "cell_type": "code",
   "execution_count": null,
   "metadata": {},
   "outputs": [],
   "source": [
    "# 'nbyes' in coef['option']"
   ]
  },
  {
   "cell_type": "code",
   "execution_count": null,
   "metadata": {},
   "outputs": [],
   "source": []
  }
 ],
 "metadata": {
  "kernelspec": {
   "display_name": "Python 3",
   "language": "python",
   "name": "python3"
  },
  "language_info": {
   "codemirror_mode": {
    "name": "ipython",
    "version": 3
   },
   "file_extension": ".py",
   "mimetype": "text/x-python",
   "name": "python",
   "nbconvert_exporter": "python",
   "pygments_lexer": "ipython3",
   "version": "3.7.3"
  }
 },
 "nbformat": 4,
 "nbformat_minor": 2
}
